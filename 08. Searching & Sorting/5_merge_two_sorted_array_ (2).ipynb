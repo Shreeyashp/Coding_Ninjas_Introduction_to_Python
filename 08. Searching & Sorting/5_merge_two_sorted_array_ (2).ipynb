{
  "cells": [
    {
      "cell_type": "code",
      "source": [
        "def mergeSortedArrays(arr1, arr2):\n",
        "    i = 0 # arr1\n",
        "    j = 0 #arr2\n",
        "    len1 = len(arr1) # go till last of arr1\n",
        "    len2 = len(arr2)   # go till last of arr2\n",
        "    arr = []        # new array, sorted vlues to be stored here \n",
        "    while (i < len1) and (j < len2):\n",
        "        if (arr1[i] < arr2 [j]):\n",
        "            arr.append(arr1[i])  # if arr1 of i is less than arr2 of j then we arr1[i] will append into arr[]\n",
        "            i = i + 1             # if upper cond met then i value so go on next value of his right so i=i+1\n",
        "        else:\n",
        "            arr.append(arr2[j])     # if upper cond does not met so it will come in else: then j value be added in arr i.e new list\n",
        "            j = j +1                # now  j value so go on next value of his right so j=j+1\n",
        "    while (i<len1):               # if still i th value is remaining then it will check with len1 \n",
        "        arr.append(arr1[i])\n",
        "        i = i+1\n",
        "    while (j< len2):                   # if still j th value is remaining then it will check with len1\n",
        "        arr.append(arr[j])\n",
        "        j = j+1\n",
        "    return arr"
      ],
      "metadata": {
        "id": "3yZVMnda3iDx"
      },
      "execution_count": 3,
      "outputs": []
    },
    {
      "cell_type": "code",
      "source": [
        "arr1 =[1,4,9,10]\n",
        "arr2 =[2,3,6,7,8]\n",
        "arr = mergeSortedArrays(arr1,arr2)\n",
        "print(arr)"
      ],
      "metadata": {
        "colab": {
          "base_uri": "https://localhost:8080/"
        },
        "id": "9ot05ONz9bBu",
        "outputId": "151b1ae2-e403-463e-bcce-93bdc1ed1dda"
      },
      "execution_count": 4,
      "outputs": [
        {
          "output_type": "stream",
          "name": "stdout",
          "text": [
            "[1, 2, 3, 4, 6, 7, 8, 9, 10]\n"
          ]
        }
      ]
    },
    {
      "cell_type": "code",
      "source": [
        "def mergeSortedArrays(arr1, arr2):\n",
        "    i = 0 # arr1\n",
        "    j = 0 #arr2\n",
        "    len1 = len(arr1) # go till last of arr1\n",
        "    len2 = len(arr2)   # go till last of arr2\n",
        "    arr = []        # new array, sorted vlues to be stored here \n",
        "    while (i < len1) and (j < len2):\n",
        "        if (arr1[i] < arr2 [j]):\n",
        "            arr.append(arr1[i])  \n",
        "            i = i + 1             \n",
        "        else:\n",
        "            arr.append(arr2[j])     \n",
        "            j = j +1                \n",
        "    while (i<len1):                \n",
        "        arr.append(arr1[i])\n",
        "        i = i+1\n",
        "    while (j< len2):                   \n",
        "        arr.append(arr[j])\n",
        "        j = j+1\n",
        "    return arr"
      ],
      "metadata": {
        "id": "HyWyJNyR4idI"
      },
      "execution_count": null,
      "outputs": []
    }
  ],
  "metadata": {
    "colab": {
      "provenance": []
    },
    "kernelspec": {
      "display_name": "Python 3",
      "name": "python3"
    },
    "language_info": {
      "name": "python"
    }
  },
  "nbformat": 4,
  "nbformat_minor": 0
}