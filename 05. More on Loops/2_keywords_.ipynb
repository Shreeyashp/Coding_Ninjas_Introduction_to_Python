{
  "cells": [
    {
      "cell_type": "markdown",
      "source": [
        "break"
      ],
      "metadata": {
        "id": "nufFw8mv07Fr"
      }
    },
    {
      "cell_type": "code",
      "source": [
        "i = 1\n",
        "while i<10:\n",
        "    if i ==5:\n",
        "        break\n",
        "    print(i)\n",
        "    i=i+1"
      ],
      "metadata": {
        "colab": {
          "base_uri": "https://localhost:8080/"
        },
        "id": "TRkMiqGM03jE",
        "outputId": "db8cb3fe-f024-42d6-82ec-a2f400eee906"
      },
      "execution_count": 12,
      "outputs": [
        {
          "output_type": "stream",
          "name": "stdout",
          "text": [
            "1\n",
            "2\n",
            "3\n",
            "4\n"
          ]
        }
      ]
    },
    {
      "cell_type": "code",
      "source": [
        "n = int(input())\n",
        "d = 2\n",
        "flag = False\n",
        "while n>d:\n",
        "    if n%d==0:\n",
        "        flag = True\n",
        "        break\n",
        "    d = d+1\n",
        "if flag:\n",
        "    print('NOT Prime')\n",
        "else:\n",
        "    print('Prime')"
      ],
      "metadata": {
        "colab": {
          "base_uri": "https://localhost:8080/"
        },
        "id": "p-_huCTM0-sN",
        "outputId": "081b5b53-92ce-4f1c-bb10-8a8134055519"
      },
      "execution_count": 13,
      "outputs": [
        {
          "output_type": "stream",
          "name": "stdout",
          "text": [
            "314\n",
            "NOT Prime\n"
          ]
        }
      ]
    },
    {
      "cell_type": "code",
      "source": [
        "n = int(input())\n",
        "flag = False\n",
        "for d in range(2,n,1):\n",
        "    if n%d==0:\n",
        "        flag = True\n",
        "        break\n",
        "if flag:\n",
        "    print('NOT PRIME')\n",
        "else:\n",
        "    print('PRIME') "
      ],
      "metadata": {
        "colab": {
          "base_uri": "https://localhost:8080/"
        },
        "id": "Qdn5Sytb1Asv",
        "outputId": "6e5a0053-c7f7-496b-f1fa-d11eeb3ee4de"
      },
      "execution_count": 14,
      "outputs": [
        {
          "output_type": "stream",
          "name": "stdout",
          "text": [
            "7\n",
            "PRIME\n"
          ]
        }
      ]
    },
    {
      "cell_type": "code",
      "source": [
        "n = int(input())\n",
        "k = 2\n",
        "while k <=n:\n",
        "    d = 2\n",
        "    flag = False\n",
        "    while d<k:\n",
        "        if k %d==0:\n",
        "            flag = True\n",
        "            break\n",
        "        d = d+1\n",
        "    if (not(flag)):\n",
        "        print(k)\n",
        "    k=k+1"
      ],
      "metadata": {
        "colab": {
          "base_uri": "https://localhost:8080/"
        },
        "id": "wQZxEcm11GA0",
        "outputId": "d8e800ea-19df-404d-8246-d0dee6274355"
      },
      "execution_count": 15,
      "outputs": [
        {
          "output_type": "stream",
          "name": "stdout",
          "text": [
            "9\n",
            "2\n",
            "3\n",
            "5\n",
            "7\n"
          ]
        }
      ]
    },
    {
      "cell_type": "markdown",
      "source": [
        "else"
      ],
      "metadata": {
        "id": "eRQB7LtR1S6B"
      }
    },
    {
      "cell_type": "code",
      "source": [
        "i =1 \n",
        "while i <10:\n",
        "    print(i)\n",
        "    i = i+1\n",
        "else:\n",
        "    ('numbers are printed')"
      ],
      "metadata": {
        "colab": {
          "base_uri": "https://localhost:8080/"
        },
        "id": "bYdyiT0H1LBc",
        "outputId": "309a1ad9-5c7b-4663-a23d-690d386b20c9"
      },
      "execution_count": 16,
      "outputs": [
        {
          "output_type": "stream",
          "name": "stdout",
          "text": [
            "1\n",
            "2\n",
            "3\n",
            "4\n",
            "5\n",
            "6\n",
            "7\n",
            "8\n",
            "9\n"
          ]
        }
      ]
    },
    {
      "cell_type": "code",
      "source": [
        "i = 1\n",
        "while i<10:\n",
        "    if i ==5:\n",
        "        break\n",
        "    print(i)\n",
        "    i= i+1\n",
        "else:\n",
        "    print(\"numbers are printed\")"
      ],
      "metadata": {
        "colab": {
          "base_uri": "https://localhost:8080/"
        },
        "id": "sGDxFtRj1XGW",
        "outputId": "649a20ee-30ba-4de6-d6e2-ea9795c0b5fe"
      },
      "execution_count": 17,
      "outputs": [
        {
          "output_type": "stream",
          "name": "stdout",
          "text": [
            "1\n",
            "2\n",
            "3\n",
            "4\n"
          ]
        }
      ]
    },
    {
      "cell_type": "code",
      "source": [
        "n = int(input())\n",
        "for d in range(2,n,1):\n",
        "    if n%d==0:\n",
        "        break\n",
        "else:\n",
        "    print(\"prime\")"
      ],
      "metadata": {
        "colab": {
          "base_uri": "https://localhost:8080/"
        },
        "id": "J69Wq8oX1iZi",
        "outputId": "6188784d-b116-411d-e804-168ed3df1e50"
      },
      "execution_count": 18,
      "outputs": [
        {
          "name": "stdout",
          "output_type": "stream",
          "text": [
            "20\n"
          ]
        }
      ]
    },
    {
      "cell_type": "markdown",
      "source": [
        "continue:\n",
        "\n",
        "want to skip an iteration"
      ],
      "metadata": {
        "id": "DzKjK2xr1m07"
      }
    },
    {
      "cell_type": "code",
      "source": [
        "for i in range(1,11,1):\n",
        "    if i ==9:\n",
        "        continue\n",
        "    print(i)"
      ],
      "metadata": {
        "colab": {
          "base_uri": "https://localhost:8080/"
        },
        "id": "J_0X1y1D1i4s",
        "outputId": "2bf8f968-b841-4e51-ee5c-a0855be4789f"
      },
      "execution_count": 19,
      "outputs": [
        {
          "output_type": "stream",
          "name": "stdout",
          "text": [
            "1\n",
            "2\n",
            "3\n",
            "4\n",
            "5\n",
            "6\n",
            "7\n",
            "8\n",
            "10\n"
          ]
        }
      ]
    },
    {
      "cell_type": "code",
      "source": [
        "n =  int(input())\n",
        "for i in range(2,n+1,2):\n",
        "    if i%7==0: # mul of 7 will be skip i.e 7, 14, 21\n",
        "        continue\n",
        "    print(i)"
      ],
      "metadata": {
        "colab": {
          "base_uri": "https://localhost:8080/"
        },
        "id": "QwqTEGgv1_cA",
        "outputId": "bda8f47b-ffbd-4ec6-f1ec-60656ff19f59"
      },
      "execution_count": 21,
      "outputs": [
        {
          "output_type": "stream",
          "name": "stdout",
          "text": [
            "30\n",
            "2\n",
            "4\n",
            "6\n",
            "8\n",
            "10\n",
            "12\n",
            "16\n",
            "18\n",
            "20\n",
            "22\n",
            "24\n",
            "26\n",
            "30\n"
          ]
        }
      ]
    },
    {
      "cell_type": "code",
      "source": [
        "n = int(input())\n",
        "i =2\n",
        "while i<=n:\n",
        "    if i%7==0:\n",
        "        continue\n",
        "    print(i)\n",
        "    i = i+2"
      ],
      "metadata": {
        "colab": {
          "base_uri": "https://localhost:8080/",
          "height": 357
        },
        "id": "RhENSQG533aF",
        "outputId": "e4ef0b41-c0a9-4547-c126-03a2bb3d4eae"
      },
      "execution_count": 22,
      "outputs": [
        {
          "output_type": "stream",
          "name": "stdout",
          "text": [
            "20\n",
            "2\n",
            "4\n",
            "6\n",
            "8\n",
            "10\n",
            "12\n"
          ]
        },
        {
          "output_type": "error",
          "ename": "KeyboardInterrupt",
          "evalue": "ignored",
          "traceback": [
            "\u001b[0;31m---------------------------------------------------------------------------\u001b[0m",
            "\u001b[0;31mKeyboardInterrupt\u001b[0m                         Traceback (most recent call last)",
            "\u001b[0;32m<ipython-input-22-5aafc9b7237d>\u001b[0m in \u001b[0;36m<module>\u001b[0;34m\u001b[0m\n\u001b[1;32m      2\u001b[0m \u001b[0mi\u001b[0m \u001b[0;34m=\u001b[0m\u001b[0;36m2\u001b[0m\u001b[0;34m\u001b[0m\u001b[0;34m\u001b[0m\u001b[0m\n\u001b[1;32m      3\u001b[0m \u001b[0;32mwhile\u001b[0m \u001b[0mi\u001b[0m\u001b[0;34m<=\u001b[0m\u001b[0mn\u001b[0m\u001b[0;34m:\u001b[0m\u001b[0;34m\u001b[0m\u001b[0;34m\u001b[0m\u001b[0m\n\u001b[0;32m----> 4\u001b[0;31m     \u001b[0;32mif\u001b[0m \u001b[0mi\u001b[0m\u001b[0;34m%\u001b[0m\u001b[0;36m7\u001b[0m\u001b[0;34m==\u001b[0m\u001b[0;36m0\u001b[0m\u001b[0;34m:\u001b[0m\u001b[0;34m\u001b[0m\u001b[0;34m\u001b[0m\u001b[0m\n\u001b[0m\u001b[1;32m      5\u001b[0m         \u001b[0;32mcontinue\u001b[0m\u001b[0;34m\u001b[0m\u001b[0;34m\u001b[0m\u001b[0m\n\u001b[1;32m      6\u001b[0m     \u001b[0mprint\u001b[0m\u001b[0;34m(\u001b[0m\u001b[0mi\u001b[0m\u001b[0;34m)\u001b[0m\u001b[0;34m\u001b[0m\u001b[0;34m\u001b[0m\u001b[0m\n",
            "\u001b[0;31mKeyboardInterrupt\u001b[0m: "
          ]
        }
      ]
    },
    {
      "cell_type": "markdown",
      "source": [
        "Infinite loop beacuse:\n",
        "\n",
        "i = 12 at last \n",
        "\n",
        "i = 12+2= 14 \n",
        "\n",
        "will go in while loop i.e 14 < 20\n",
        "\n",
        " it will go now in if cond 7 divide 14, \n",
        " \n",
        " so will go for continue and again it will go in while then if then continue then again in while this will go on for infinite"
      ],
      "metadata": {
        "id": "MIxC1wvS59W8"
      }
    },
    {
      "cell_type": "code",
      "source": [
        "n = int(input())\n",
        "i =2\n",
        "while i<=n:\n",
        "    if i%7==0: \n",
        "        i = i+2\n",
        "        continue\n",
        "    print(i)\n",
        "    i = i +2"
      ],
      "metadata": {
        "colab": {
          "base_uri": "https://localhost:8080/"
        },
        "id": "hnenvCxY5kX5",
        "outputId": "989d87f7-0a57-4142-81bf-c3bf617faff9"
      },
      "execution_count": 23,
      "outputs": [
        {
          "output_type": "stream",
          "name": "stdout",
          "text": [
            "10\n",
            "2\n",
            "4\n",
            "6\n",
            "8\n",
            "10\n"
          ]
        }
      ]
    },
    {
      "cell_type": "markdown",
      "source": [
        "pass:\n",
        "\n",
        "dummy statement to skip while and for loops.\n"
      ],
      "metadata": {
        "id": "6qRvknLX7DZc"
      }
    },
    {
      "cell_type": "code",
      "source": [
        "i = 1\n",
        "if i<7:\n",
        "    pass\n",
        "print(\"hey\")"
      ],
      "metadata": {
        "colab": {
          "base_uri": "https://localhost:8080/"
        },
        "id": "F43mCEqr63U-",
        "outputId": "74e85111-921d-4e61-c97d-cd9bfb901eac"
      },
      "execution_count": 24,
      "outputs": [
        {
          "output_type": "stream",
          "name": "stdout",
          "text": [
            "hey\n"
          ]
        }
      ]
    },
    {
      "cell_type": "code",
      "source": [
        "i = 1\n",
        "while i<=3:\n",
        "  pass\n",
        "  i = i+1\n",
        "print('end')"
      ],
      "metadata": {
        "colab": {
          "base_uri": "https://localhost:8080/"
        },
        "id": "74ZJjYJJ8L9I",
        "outputId": "dc7b46ff-c835-40c8-8fe7-ee0447fe33bd"
      },
      "execution_count": 31,
      "outputs": [
        {
          "output_type": "stream",
          "name": "stdout",
          "text": [
            "end\n"
          ]
        }
      ]
    },
    {
      "cell_type": "code",
      "source": [
        "i = 1\n",
        "while i<=3:\n",
        "  # pass\n",
        "  i = i+1\n",
        "print('end')"
      ],
      "metadata": {
        "colab": {
          "base_uri": "https://localhost:8080/"
        },
        "id": "DnnOrKA88L5z",
        "outputId": "9f453a63-d324-41ee-bb33-4de8e5925c11"
      },
      "execution_count": 32,
      "outputs": [
        {
          "output_type": "stream",
          "name": "stdout",
          "text": [
            "end\n"
          ]
        }
      ]
    },
    {
      "cell_type": "code",
      "source": [
        "n=int(input())\n",
        "i=n\n",
        "while i>=1:\n",
        "    j=n\n",
        "    while j>i:\n",
        "        print(j,end='')\n",
        "        j=j-1\n",
        "    j=1\n",
        "    while j<=2*i-1:\n",
        "        print(i,end='')\n",
        "        j=j+1\n",
        "    j=i+1\n",
        "    while j<=n:\n",
        "        print(j,end='')\n",
        "        j=j+1\n",
        "   \n",
        "    print()\n",
        "    i=i-1\n",
        "i=1\n",
        "while i<n:\n",
        "    j=n\n",
        "    while j>i:\n",
        "        print(j,end='')\n",
        "        j=j-1\n",
        "    j=1\n",
        "    while j<=2*i-1:\n",
        "        print(i+1,end='')\n",
        "        j=j+1\n",
        "    j=i+1\n",
        "    while j<=n:\n",
        "        print(j,end='')\n",
        "        j=j+1\n",
        "   \n",
        "    print()\n",
        "    i=i+1"
      ],
      "metadata": {
        "colab": {
          "base_uri": "https://localhost:8080/"
        },
        "id": "G0qPg7aC7IL2",
        "outputId": "dee76c76-72c0-42ab-d74e-237682867a52"
      },
      "execution_count": 26,
      "outputs": [
        {
          "output_type": "stream",
          "name": "stdout",
          "text": [
            "3\n",
            "33333\n",
            "32223\n",
            "32123\n",
            "32223\n",
            "33333\n"
          ]
        }
      ]
    },
    {
      "cell_type": "code",
      "source": [
        "n = int(input())\n",
        "for i in range(1,n+1):\n",
        "    count = 1\n",
        "    for j in range(1,i):\n",
        "        print(\" \",end=\"\")\n",
        "        count = count + 1\n",
        "    num = i\n",
        "    for j in range(count,n+1):\n",
        "        print(num,end=\"\")\n",
        "        num = num + 1\n",
        "    print()\n",
        "for i in range(n-1,0,-1):\n",
        "    count = 1\n",
        "    for j in range(1,i):\n",
        "        print(\" \",end=\"\")\n",
        "        count = count + 1\n",
        "    num = i\n",
        "    for j in range(count,n+1):\n",
        "        print(num,end=\"\")\n",
        "        num = num + 1\n",
        "    print()"
      ],
      "metadata": {
        "colab": {
          "base_uri": "https://localhost:8080/"
        },
        "id": "JijNdZzn7sfa",
        "outputId": "74b405ec-e429-4eb9-9ed8-57cf70e10af5"
      },
      "execution_count": 30,
      "outputs": [
        {
          "output_type": "stream",
          "name": "stdout",
          "text": [
            "4\n",
            "1234\n",
            " 234\n",
            "  34\n",
            "   4\n",
            "  34\n",
            " 234\n",
            "1234\n"
          ]
        }
      ]
    },
    {
      "cell_type": "code",
      "source": [],
      "metadata": {
        "id": "j31Nh84X7zye"
      },
      "execution_count": null,
      "outputs": []
    }
  ],
  "metadata": {
    "colab": {
      "provenance": []
    },
    "kernelspec": {
      "display_name": "Python 3",
      "name": "python3"
    },
    "language_info": {
      "name": "python"
    }
  },
  "nbformat": 4,
  "nbformat_minor": 0
}