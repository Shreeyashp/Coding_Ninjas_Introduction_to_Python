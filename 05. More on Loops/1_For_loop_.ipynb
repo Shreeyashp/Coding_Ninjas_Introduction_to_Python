{
  "cells": [
    {
      "cell_type": "code",
      "source": [
        "s = 'abcd'\n",
        "for a in s:\n",
        "    print(a)"
      ],
      "metadata": {
        "colab": {
          "base_uri": "https://localhost:8080/"
        },
        "id": "a0ynn72XxF7N",
        "outputId": "bb75789f-8de7-48d2-de99-09fa9d206a7a"
      },
      "execution_count": 1,
      "outputs": [
        {
          "output_type": "stream",
          "name": "stdout",
          "text": [
            "a\n",
            "b\n",
            "c\n",
            "d\n"
          ]
        }
      ]
    },
    {
      "cell_type": "code",
      "source": [
        "#print n numbers from 1 to n.\n",
        "#with 3 value\n",
        "n = int(input())\n",
        "for i in range(1,n+1,1):\n",
        "    print(i)"
      ],
      "metadata": {
        "colab": {
          "base_uri": "https://localhost:8080/"
        },
        "id": "lu8zKuvJxIUR",
        "outputId": "bf872c4d-6f11-41af-ab30-dde81c9908a6"
      },
      "execution_count": 2,
      "outputs": [
        {
          "output_type": "stream",
          "name": "stdout",
          "text": [
            "5\n",
            "1\n",
            "2\n",
            "3\n",
            "4\n",
            "5\n"
          ]
        }
      ]
    },
    {
      "cell_type": "code",
      "source": [
        "#print n numbers from 1 to n.\n",
        "#with 1 value\n",
        "#start is default as 0 & stride(step) is 1. \n",
        "n = int(input())\n",
        "for i in range(n+1):\n",
        "    print(i)"
      ],
      "metadata": {
        "colab": {
          "base_uri": "https://localhost:8080/"
        },
        "id": "w1hDa316xMm2",
        "outputId": "0f895a9d-a17f-4f14-ee1d-31df81cf47c4"
      },
      "execution_count": 3,
      "outputs": [
        {
          "output_type": "stream",
          "name": "stdout",
          "text": [
            "4\n",
            "0\n",
            "1\n",
            "2\n",
            "3\n",
            "4\n"
          ]
        }
      ]
    },
    {
      "cell_type": "code",
      "source": [
        "#print n numbers from 1 to n.\n",
        "#with 2 value\n",
        "#1st value is start ,2nd value is stop  & default stride(step) as 1. \n",
        "\n",
        "n = int(input())\n",
        "for i in range(1,n+1):\n",
        "    print(i)"
      ],
      "metadata": {
        "colab": {
          "base_uri": "https://localhost:8080/"
        },
        "id": "qR8KfSq-xSKn",
        "outputId": "cf6ab72d-14ed-436f-8bd2-5644e784e8e5"
      },
      "execution_count": 4,
      "outputs": [
        {
          "output_type": "stream",
          "name": "stdout",
          "text": [
            "4\n",
            "1\n",
            "2\n",
            "3\n",
            "4\n"
          ]
        }
      ]
    },
    {
      "cell_type": "code",
      "source": [
        "# reverse numbers.\n",
        "\n",
        "n = int(input())\n",
        "for i in range (n,0,-1):\n",
        "    print(i)"
      ],
      "metadata": {
        "colab": {
          "base_uri": "https://localhost:8080/"
        },
        "id": "zauFXGfXxW1e",
        "outputId": "caaf5636-8b4e-430e-cb1d-c7eb11a70453"
      },
      "execution_count": 5,
      "outputs": [
        {
          "output_type": "stream",
          "name": "stdout",
          "text": [
            "4\n",
            "4\n",
            "3\n",
            "2\n",
            "1\n"
          ]
        }
      ]
    },
    {
      "cell_type": "code",
      "source": [
        "for i in range(1,5,2):\n",
        "    print(i,end=' ')"
      ],
      "metadata": {
        "colab": {
          "base_uri": "https://localhost:8080/"
        },
        "id": "tqsiGLwQxigw",
        "outputId": "6ca7667d-dd5d-4ce9-975f-07a991757579"
      },
      "execution_count": 6,
      "outputs": [
        {
          "output_type": "stream",
          "name": "stdout",
          "text": [
            "1 3 "
          ]
        }
      ]
    },
    {
      "cell_type": "code",
      "source": [
        "for i in range(5):\n",
        "    print(i,end= ' ')"
      ],
      "metadata": {
        "colab": {
          "base_uri": "https://localhost:8080/"
        },
        "id": "AOeSUtWvxjGr",
        "outputId": "934be0ea-00b0-4722-d650-f0288fc01c42"
      },
      "execution_count": 7,
      "outputs": [
        {
          "output_type": "stream",
          "name": "stdout",
          "text": [
            "0 1 2 3 4 "
          ]
        }
      ]
    },
    {
      "cell_type": "code",
      "source": [
        "a = int(input())\n",
        "b = int(input())\n",
        "\n",
        "\n",
        "for i in range(a,b+1,1):\n",
        "    if i%3==0:\n",
        "        print(i)"
      ],
      "metadata": {
        "colab": {
          "base_uri": "https://localhost:8080/"
        },
        "id": "PxBUGKl1xlpc",
        "outputId": "dd7d8e5b-ca2d-4201-861c-d9378d2117de"
      },
      "execution_count": 8,
      "outputs": [
        {
          "output_type": "stream",
          "name": "stdout",
          "text": [
            "1\n",
            "10\n",
            "3\n",
            "6\n",
            "9\n"
          ]
        }
      ]
    },
    {
      "cell_type": "code",
      "source": [
        "a = int(input())\n",
        "b = int(input())\n",
        "\n",
        "if a%3==0:\n",
        "    s = a\n",
        "elif a%3==1:\n",
        "    s = a+2\n",
        "else:\n",
        "    s = a+1\n",
        "for i in range(s,b+1,3):\n",
        "        print(i)"
      ],
      "metadata": {
        "colab": {
          "base_uri": "https://localhost:8080/"
        },
        "id": "QkIdj9BV0RFb",
        "outputId": "8c476033-c1fb-4c4f-a582-7be341740ab0"
      },
      "execution_count": 9,
      "outputs": [
        {
          "output_type": "stream",
          "name": "stdout",
          "text": [
            "6\n",
            "35\n",
            "6\n",
            "9\n",
            "12\n",
            "15\n",
            "18\n",
            "21\n",
            "24\n",
            "27\n",
            "30\n",
            "33\n"
          ]
        }
      ]
    },
    {
      "cell_type": "code",
      "source": [
        "#prime no. \n",
        "n = int(input())\n",
        "flag = False\n",
        "for d in range(2,n,1):\n",
        "    if n%d ==0:\n",
        "        flag = True\n",
        "        \n",
        "if flag:\n",
        "    print('not prime')\n",
        "else:\n",
        "    print('prime')"
      ],
      "metadata": {
        "colab": {
          "base_uri": "https://localhost:8080/"
        },
        "id": "hD30WHKh0WQu",
        "outputId": "3ce0c80f-09a4-4fda-cdb0-b925ddc4ec74"
      },
      "execution_count": 10,
      "outputs": [
        {
          "output_type": "stream",
          "name": "stdout",
          "text": [
            "7\n",
            "prime\n"
          ]
        }
      ]
    },
    {
      "cell_type": "markdown",
      "source": [
        "patterns"
      ],
      "metadata": {
        "id": "3z2B3Ml30iCD"
      }
    },
    {
      "cell_type": "code",
      "source": [
        "n = int(input())\n",
        "for i in range(1,n+1,1):\n",
        "    for s in range(n-i):\n",
        "        print(' ',end='')\n",
        "    for j in range(i,2*i,1):\n",
        "        print(j,end=\"\")\n",
        "    for j in range(2*i-2,i-1,-1):\n",
        "        print(j,end=\"\")\n",
        "    print() "
      ],
      "metadata": {
        "colab": {
          "base_uri": "https://localhost:8080/"
        },
        "id": "WpZzCn4S0dVc",
        "outputId": "3680d61c-f5a6-45a1-ad95-13e6ce7f1a88"
      },
      "execution_count": 11,
      "outputs": [
        {
          "output_type": "stream",
          "name": "stdout",
          "text": [
            "4\n",
            "   1\n",
            "  232\n",
            " 34543\n",
            "4567654\n"
          ]
        }
      ]
    },
    {
      "cell_type": "code",
      "source": [],
      "metadata": {
        "id": "Ui_9rmEa0km0"
      },
      "execution_count": null,
      "outputs": []
    }
  ],
  "metadata": {
    "colab": {
      "provenance": []
    },
    "kernelspec": {
      "display_name": "Python 3",
      "name": "python3"
    },
    "language_info": {
      "name": "python"
    }
  },
  "nbformat": 4,
  "nbformat_minor": 0
}