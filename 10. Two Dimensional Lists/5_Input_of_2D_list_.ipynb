{
  "cells": [
    {
      "cell_type": "code",
      "source": [
        "str = input().split()\n",
        "n,m = int(str[0]),int(str[1])\n",
        "li = [[int(j) for j in input().split()] for i in range(n)]\n",
        "li"
      ],
      "metadata": {
        "colab": {
          "base_uri": "https://localhost:8080/"
        },
        "id": "yST4vVyWZLMC",
        "outputId": "4cb11df9-4b5f-4ffa-e871-15aac64f6244"
      },
      "execution_count": 18,
      "outputs": [
        {
          "name": "stdout",
          "output_type": "stream",
          "text": [
            "3 4\n",
            "1 2 3 4\n",
            "1 2 3 4\n",
            "1 2 3 4\n"
          ]
        },
        {
          "output_type": "execute_result",
          "data": {
            "text/plain": [
              "[[1, 2, 3, 4], [1, 2, 3, 4], [1, 2, 3, 4]]"
            ]
          },
          "metadata": {},
          "execution_count": 18
        }
      ]
    },
    {
      "cell_type": "code",
      "source": [
        "#str = input().split()\n",
        "n= int (input())\n",
        "li = [[int(j) for j in input().split()] for i in range(n)]\n",
        "li"
      ],
      "metadata": {
        "colab": {
          "base_uri": "https://localhost:8080/"
        },
        "id": "JB2FFcQj2Zmo",
        "outputId": "8fdcb7fb-2fdb-4ded-e9dd-a0a3aebb8f77"
      },
      "execution_count": 17,
      "outputs": [
        {
          "name": "stdout",
          "output_type": "stream",
          "text": [
            "3\n",
            "1 2 3 4\n",
            "1 2 3\n",
            "1 2 \n"
          ]
        },
        {
          "output_type": "execute_result",
          "data": {
            "text/plain": [
              "[[1, 2, 3, 4], [1, 2, 3], [1, 2]]"
            ]
          },
          "metadata": {},
          "execution_count": 17
        }
      ]
    },
    {
      "cell_type": "code",
      "source": [
        "str = input().split()\n",
        "n,m = int(str[0]),int(str[1])\n",
        "b = input().split()\n",
        "arr = [[int(b[m*i+j])for j in range(m)]for i in range (n)]\n",
        "arr"
      ],
      "metadata": {
        "colab": {
          "base_uri": "https://localhost:8080/"
        },
        "id": "0rCG3v_D21EZ",
        "outputId": "9a9a2f4c-e7be-43b6-864b-517028e2893a"
      },
      "execution_count": 20,
      "outputs": [
        {
          "name": "stdout",
          "output_type": "stream",
          "text": [
            "2 3 \n",
            "1 2 3 4 5 6 7\n"
          ]
        },
        {
          "output_type": "execute_result",
          "data": {
            "text/plain": [
              "[[1, 2, 3], [4, 5, 6]]"
            ]
          },
          "metadata": {},
          "execution_count": 20
        }
      ]
    },
    {
      "cell_type": "code",
      "source": [
        "str = input().split()\n",
        "n,m = int(str[0]),int(str[1])\n",
        "b = str[2:]\n",
        "arr = [[int(b[m*i+j])for j in range(m)]for i in range (n)]\n",
        "arr"
      ],
      "metadata": {
        "colab": {
          "base_uri": "https://localhost:8080/"
        },
        "id": "x9J4wBtqAU0x",
        "outputId": "aaad5d56-28db-41df-e5ee-a97c17563724"
      },
      "execution_count": 22,
      "outputs": [
        {
          "name": "stdout",
          "output_type": "stream",
          "text": [
            "2 3 3 4 1 2 3 4 5 6 7 8 9 10 11 12\n"
          ]
        },
        {
          "output_type": "execute_result",
          "data": {
            "text/plain": [
              "[[3, 4, 1], [2, 3, 4]]"
            ]
          },
          "metadata": {},
          "execution_count": 22
        }
      ]
    },
    {
      "cell_type": "code",
      "source": [
        "n"
      ],
      "metadata": {
        "colab": {
          "base_uri": "https://localhost:8080/"
        },
        "id": "duX608dJAUxV",
        "outputId": "1507b74d-deec-4eb0-8bec-b2eaf485ec51"
      },
      "execution_count": 23,
      "outputs": [
        {
          "output_type": "execute_result",
          "data": {
            "text/plain": [
              "2"
            ]
          },
          "metadata": {},
          "execution_count": 23
        }
      ]
    },
    {
      "cell_type": "code",
      "source": [
        "m"
      ],
      "metadata": {
        "colab": {
          "base_uri": "https://localhost:8080/"
        },
        "id": "jvRN8877AUtz",
        "outputId": "8a7d7072-3c34-44b5-b3e8-b6aa2ccb3105"
      },
      "execution_count": 24,
      "outputs": [
        {
          "output_type": "execute_result",
          "data": {
            "text/plain": [
              "3"
            ]
          },
          "metadata": {},
          "execution_count": 24
        }
      ]
    },
    {
      "cell_type": "code",
      "source": [],
      "metadata": {
        "id": "wcI2YWKkAUqt"
      },
      "execution_count": null,
      "outputs": []
    },
    {
      "cell_type": "code",
      "source": [],
      "metadata": {
        "id": "5xtQmElOAUnw"
      },
      "execution_count": null,
      "outputs": []
    }
  ],
  "metadata": {
    "colab": {
      "provenance": []
    },
    "kernelspec": {
      "display_name": "Python 3",
      "name": "python3"
    },
    "language_info": {
      "name": "python"
    }
  },
  "nbformat": 4,
  "nbformat_minor": 0
}