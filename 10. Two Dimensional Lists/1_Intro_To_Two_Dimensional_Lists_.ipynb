{
  "cells": [
    {
      "cell_type": "markdown",
      "source": [
        "![download.png](data:image/png;base64,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)"
      ],
      "metadata": {
        "id": "qdm_Fk2XWZAs"
      }
    },
    {
      "cell_type": "markdown",
      "source": [
        "\n",
        "\n",
        "row 0 [1,2,3,4]\n",
        "\n",
        "\n",
        "1 [5,6,7,8]\n",
        "\n",
        "2 [9,10,11,12]\n",
        "\n",
        "3 [13,14,15,16]"
      ],
      "metadata": {
        "id": "0s6DxgWWWcsH"
      }
    },
    {
      "cell_type": "code",
      "source": [
        "a = [[1,2,3,4],[5,6,7,8],[9,10,11,12],[13,14,15,16]]\n",
        "a"
      ],
      "metadata": {
        "colab": {
          "base_uri": "https://localhost:8080/"
        },
        "id": "khKHcrzwTA9S",
        "outputId": "c373dcd0-a41c-4139-a1bf-0f0f9ffd0cad"
      },
      "execution_count": 43,
      "outputs": [
        {
          "output_type": "execute_result",
          "data": {
            "text/plain": [
              "[[1, 2, 3, 4], [5, 6, 7, 8], [9, 10, 11, 12], [13, 14, 15, 16]]"
            ]
          },
          "metadata": {},
          "execution_count": 43
        }
      ]
    },
    {
      "cell_type": "code",
      "source": [
        "a[2][2]  # row 2 and index 2 of it i.e 11"
      ],
      "metadata": {
        "colab": {
          "base_uri": "https://localhost:8080/"
        },
        "id": "t3Fq7EkdTA_o",
        "outputId": "57ec768b-e8dc-44d4-995a-f4cb96c0c4df"
      },
      "execution_count": 44,
      "outputs": [
        {
          "output_type": "execute_result",
          "data": {
            "text/plain": [
              "11"
            ]
          },
          "metadata": {},
          "execution_count": 44
        }
      ]
    },
    {
      "cell_type": "code",
      "source": [
        "a[2][3]"
      ],
      "metadata": {
        "colab": {
          "base_uri": "https://localhost:8080/"
        },
        "id": "gah6h1qNTBB9",
        "outputId": "498d224c-326e-4c18-d54f-ddd5d68d1c93"
      },
      "execution_count": 45,
      "outputs": [
        {
          "output_type": "execute_result",
          "data": {
            "text/plain": [
              "12"
            ]
          },
          "metadata": {},
          "execution_count": 45
        }
      ]
    },
    {
      "cell_type": "code",
      "source": [
        "a[1][3]"
      ],
      "metadata": {
        "colab": {
          "base_uri": "https://localhost:8080/"
        },
        "id": "He6UMgw0TBEJ",
        "outputId": "b318bb3e-fcc4-40ae-ab34-2057dd475230"
      },
      "execution_count": 46,
      "outputs": [
        {
          "output_type": "execute_result",
          "data": {
            "text/plain": [
              "8"
            ]
          },
          "metadata": {},
          "execution_count": 46
        }
      ]
    },
    {
      "cell_type": "code",
      "source": [
        "a[1][5] # out of range index because in column there is only 3 index"
      ],
      "metadata": {
        "colab": {
          "base_uri": "https://localhost:8080/",
          "height": 166
        },
        "id": "HAqJfkNPTBGP",
        "outputId": "0f0cc074-ba89-42ec-cb8c-9bc748bb0007"
      },
      "execution_count": 47,
      "outputs": [
        {
          "output_type": "error",
          "ename": "IndexError",
          "evalue": "ignored",
          "traceback": [
            "\u001b[0;31m---------------------------------------------------------------------------\u001b[0m",
            "\u001b[0;31mIndexError\u001b[0m                                Traceback (most recent call last)",
            "\u001b[0;32m<ipython-input-47-11a1412cd88e>\u001b[0m in \u001b[0;36m<module>\u001b[0;34m\u001b[0m\n\u001b[0;32m----> 1\u001b[0;31m \u001b[0ma\u001b[0m\u001b[0;34m[\u001b[0m\u001b[0;36m1\u001b[0m\u001b[0;34m]\u001b[0m\u001b[0;34m[\u001b[0m\u001b[0;36m5\u001b[0m\u001b[0;34m]\u001b[0m\u001b[0;34m\u001b[0m\u001b[0;34m\u001b[0m\u001b[0m\n\u001b[0m",
            "\u001b[0;31mIndexError\u001b[0m: list index out of range"
          ]
        }
      ]
    },
    {
      "cell_type": "code",
      "source": [
        "a[1][2]=20\n",
        "a"
      ],
      "metadata": {
        "colab": {
          "base_uri": "https://localhost:8080/"
        },
        "id": "McIT7yD9TBJy",
        "outputId": "7b4f1c40-ef86-4b2e-f44a-67174f24bfe4"
      },
      "execution_count": 49,
      "outputs": [
        {
          "output_type": "execute_result",
          "data": {
            "text/plain": [
              "[[1, 2, 3, 4], [5, 6, 20, 8], [9, 10, 11, 12], [13, 14, 15, 16]]"
            ]
          },
          "metadata": {},
          "execution_count": 49
        }
      ]
    },
    {
      "cell_type": "code",
      "source": [],
      "metadata": {
        "id": "VM4LQrMXXix2"
      },
      "execution_count": null,
      "outputs": []
    }
  ],
  "metadata": {
    "colab": {
      "provenance": []
    },
    "kernelspec": {
      "display_name": "Python 3",
      "name": "python3"
    },
    "language_info": {
      "name": "python"
    }
  },
  "nbformat": 4,
  "nbformat_minor": 0
}