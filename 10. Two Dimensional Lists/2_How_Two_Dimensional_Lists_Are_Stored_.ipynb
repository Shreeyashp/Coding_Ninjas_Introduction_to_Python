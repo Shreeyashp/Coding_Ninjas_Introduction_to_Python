{
  "cells": [
    {
      "cell_type": "markdown",
      "source": [
        "\n",
        "\n",
        "row 0 [1,2,3,4]\n",
        "\n",
        "\n",
        "1 [5,6,7,8]\n",
        "\n",
        "2 [9,10,11,12]\n",
        "\n",
        "3 [13,14,15,16]"
      ],
      "metadata": {
        "id": "0s6DxgWWWcsH"
      }
    },
    {
      "cell_type": "code",
      "source": [
        "li = [[1,2,3,4],[5,6,7,8]]\n",
        "li"
      ],
      "metadata": {
        "colab": {
          "base_uri": "https://localhost:8080/"
        },
        "id": "khKHcrzwTA9S",
        "outputId": "03d12d31-ddd1-4076-e7d0-cb5207cd3999"
      },
      "execution_count": null,
      "outputs": [
        {
          "output_type": "execute_result",
          "data": {
            "text/plain": [
              "[[1, 2, 3, 4], [5, 6, 7, 8]]"
            ]
          },
          "metadata": {},
          "execution_count": 50
        }
      ]
    },
    {
      "cell_type": "code",
      "source": [
        "type(li[0])"
      ],
      "metadata": {
        "colab": {
          "base_uri": "https://localhost:8080/"
        },
        "id": "t3Fq7EkdTA_o",
        "outputId": "930c5d50-552e-43c2-f26d-ec9e08243213"
      },
      "execution_count": null,
      "outputs": [
        {
          "output_type": "execute_result",
          "data": {
            "text/plain": [
              "list"
            ]
          },
          "metadata": {},
          "execution_count": 52
        }
      ]
    },
    {
      "cell_type": "code",
      "source": [
        "li[0][1] # row 0 and column 1"
      ],
      "metadata": {
        "colab": {
          "base_uri": "https://localhost:8080/"
        },
        "id": "gah6h1qNTBB9",
        "outputId": "2ada568e-d584-4cf0-8e25-c21a18cf6ce4"
      },
      "execution_count": null,
      "outputs": [
        {
          "output_type": "execute_result",
          "data": {
            "text/plain": [
              "2"
            ]
          },
          "metadata": {},
          "execution_count": 53
        }
      ]
    },
    {
      "cell_type": "code",
      "source": [
        "li[0][1]=4\n",
        "li"
      ],
      "metadata": {
        "colab": {
          "base_uri": "https://localhost:8080/"
        },
        "id": "He6UMgw0TBEJ",
        "outputId": "681f792d-c9f9-40c7-c3bf-ae775cf49c32"
      },
      "execution_count": null,
      "outputs": [
        {
          "output_type": "execute_result",
          "data": {
            "text/plain": [
              "[[1, 4, 3, 4], [5, 6, 7, 8]]"
            ]
          },
          "metadata": {},
          "execution_count": 54
        }
      ]
    },
    {
      "cell_type": "code",
      "source": [
        "id(li[0])"
      ],
      "metadata": {
        "colab": {
          "base_uri": "https://localhost:8080/"
        },
        "id": "HAqJfkNPTBGP",
        "outputId": "cce8ee10-9c1f-44b0-9a8e-9e68239e52ce"
      },
      "execution_count": null,
      "outputs": [
        {
          "output_type": "execute_result",
          "data": {
            "text/plain": [
              "140029554073856"
            ]
          },
          "metadata": {},
          "execution_count": 56
        }
      ]
    },
    {
      "cell_type": "code",
      "source": [
        "id(li[1])"
      ],
      "metadata": {
        "colab": {
          "base_uri": "https://localhost:8080/"
        },
        "id": "McIT7yD9TBJy",
        "outputId": "abf67745-d3be-4476-8f3e-71880a4c30f5"
      },
      "execution_count": null,
      "outputs": [
        {
          "output_type": "execute_result",
          "data": {
            "text/plain": [
              "140029553975872"
            ]
          },
          "metadata": {},
          "execution_count": 57
        }
      ]
    },
    {
      "cell_type": "code",
      "source": [
        "li[1]=\"shree\""
      ],
      "metadata": {
        "id": "VM4LQrMXXix2"
      },
      "execution_count": null,
      "outputs": []
    },
    {
      "cell_type": "code",
      "source": [
        "li[1]=[6,7,8,9]\n",
        "li"
      ],
      "metadata": {
        "id": "Sh8REAnBYMDK",
        "outputId": "77ac3045-b450-4b2c-9769-793888570fa8",
        "colab": {
          "base_uri": "https://localhost:8080/"
        }
      },
      "execution_count": null,
      "outputs": [
        {
          "output_type": "execute_result",
          "data": {
            "text/plain": [
              "[[1, 4, 3, 4], [6, 7, 8, 9]]"
            ]
          },
          "metadata": {},
          "execution_count": 59
        }
      ]
    },
    {
      "cell_type": "code",
      "source": [],
      "metadata": {
        "id": "fx0e807-YNax"
      },
      "execution_count": null,
      "outputs": []
    }
  ],
  "metadata": {
    "colab": {
      "provenance": []
    },
    "kernelspec": {
      "display_name": "Python 3",
      "name": "python3"
    },
    "language_info": {
      "name": "python"
    }
  },
  "nbformat": 4,
  "nbformat_minor": 0
}