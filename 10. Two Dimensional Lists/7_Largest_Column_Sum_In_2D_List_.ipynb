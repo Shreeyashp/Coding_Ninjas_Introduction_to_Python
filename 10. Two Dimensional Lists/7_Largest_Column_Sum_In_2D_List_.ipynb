{
  "cells": [
    {
      "cell_type": "markdown",
      "source": [
        "1    2    3    4 \n",
        "\n",
        "8    7    6    5\n",
        "\n",
        "13   14   15    16\n",
        "\n",
        "22   23   24    25    sum of total rows 1+8+13= 22   at last 25 is highest so index 3 will answer"
      ],
      "metadata": {
        "id": "c-MY4juGP4jK"
      }
    },
    {
      "cell_type": "code",
      "source": [
        "def lar_Col_Sum(li):\n",
        "    n = len(li)\n",
        "    m = len(li[0])\n",
        "    \n",
        "    max_sum = -1\n",
        "    max_col_index  = -1\n",
        "    for j in range (m):\n",
        "        sum = 0\n",
        "        for i in range(n):\n",
        "            sum += li[i][j]\n",
        "            if sum>max_sum:\n",
        "                max_col_index= j\n",
        "                max_sum = sum\n",
        "    return max_sum,max_col_index\n",
        "\n",
        "li = [[1,2,3,4],[8,7,6,5],[9,10,11,12]]\n",
        "lar_sum,lar_col_Index = lar_Col_Sum(li)\n",
        "print(lar_sum,lar_col_Index)"
      ],
      "metadata": {
        "colab": {
          "base_uri": "https://localhost:8080/"
        },
        "id": "yY6Mmv2nPPs5",
        "outputId": "97437ca4-8b63-4ba5-f417-570232c17209"
      },
      "execution_count": 1,
      "outputs": [
        {
          "output_type": "stream",
          "name": "stdout",
          "text": [
            "21 3\n"
          ]
        }
      ]
    },
    {
      "cell_type": "code",
      "source": [
        "def lar_Col_Sum(li):\n",
        "    n = len(li)\n",
        "    m = len(li[0])\n",
        "    \n",
        "    max_sum = -1\n",
        "    max_col_index  = -1\n",
        "    for j in range (m):\n",
        "        sum = 0\n",
        "        for i in range(n):\n",
        "            sum += li[i][j]\n",
        "            if sum>max_sum:\n",
        "                max_col_index= j\n",
        "                max_sum = sum\n",
        "    return max_sum,max_col_index\n",
        "\n",
        "li = [[1,29,3,4],[8,7,6,5],[9,10,11,12]]\n",
        "lar_sum,lar_col_Index = lar_Col_Sum(li)\n",
        "print(lar_sum,lar_col_Index)"
      ],
      "metadata": {
        "colab": {
          "base_uri": "https://localhost:8080/"
        },
        "id": "9JzhkMi8PPpi",
        "outputId": "2949b87b-beaa-4886-e26b-12ed0e6df22b"
      },
      "execution_count": 4,
      "outputs": [
        {
          "output_type": "stream",
          "name": "stdout",
          "text": [
            "46 1\n"
          ]
        }
      ]
    },
    {
      "cell_type": "code",
      "source": [],
      "metadata": {
        "id": "jT8L8ivoPPnK"
      },
      "execution_count": null,
      "outputs": []
    },
    {
      "cell_type": "code",
      "execution_count": null,
      "metadata": {
        "id": "64RVmHPzBFWv"
      },
      "outputs": [],
      "source": []
    },
    {
      "cell_type": "code",
      "execution_count": null,
      "metadata": {
        "id": "5xtQmElOAUnw"
      },
      "outputs": [],
      "source": []
    }
  ],
  "metadata": {
    "colab": {
      "provenance": []
    },
    "kernelspec": {
      "display_name": "Python 3",
      "name": "python3"
    },
    "language_info": {
      "name": "python"
    }
  },
  "nbformat": 4,
  "nbformat_minor": 0
}