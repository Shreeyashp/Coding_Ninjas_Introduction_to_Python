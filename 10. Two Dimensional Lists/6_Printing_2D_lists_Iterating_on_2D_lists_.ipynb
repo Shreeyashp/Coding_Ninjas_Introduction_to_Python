{
  "cells": [
    {
      "cell_type": "code",
      "source": [
        "li = [[1,2,3,4],[5,6,7,8],[9,10,11,12]]\n",
        "n = 3\n",
        "m = 4\n",
        "\n",
        "for i in range(n):\n",
        "  for j in range(m):\n",
        "    print(li[i][j], end='')\n",
        "  print()"
      ],
      "metadata": {
        "id": "OaACG8GwpoZC",
        "outputId": "b9115c63-e677-4ca5-d529-2ce2a57934ca",
        "colab": {
          "base_uri": "https://localhost:8080/"
        }
      },
      "execution_count": 43,
      "outputs": [
        {
          "output_type": "stream",
          "name": "stdout",
          "text": [
            "1234\n",
            "5678\n",
            "9101112\n"
          ]
        }
      ]
    },
    {
      "cell_type": "code",
      "source": [
        "li = [[1,2,3,4],[5,6],[9,10,11,12]]\n",
        "n = 3\n",
        "\n",
        "for i in li:\n",
        "  for j in i:\n",
        "    print(j, end = '')\n",
        "  print()"
      ],
      "metadata": {
        "id": "PTp0WoDOpoVr",
        "outputId": "236fbb00-3f70-4250-9de8-212b02b3b5cc",
        "colab": {
          "base_uri": "https://localhost:8080/"
        }
      },
      "execution_count": 45,
      "outputs": [
        {
          "output_type": "stream",
          "name": "stdout",
          "text": [
            "1234\n",
            "56\n",
            "9101112\n"
          ]
        }
      ]
    },
    {
      "cell_type": "code",
      "source": [
        "' ab '.join('abcd')"
      ],
      "metadata": {
        "id": "EZfG2UtvpoTM",
        "outputId": "e92c5e25-6407-4532-dae5-6a4cbe21c8d2",
        "colab": {
          "base_uri": "https://localhost:8080/",
          "height": 35
        }
      },
      "execution_count": 48,
      "outputs": [
        {
          "output_type": "execute_result",
          "data": {
            "text/plain": [
              "'a ab b ab c ab d'"
            ],
            "application/vnd.google.colaboratory.intrinsic+json": {
              "type": "string"
            }
          },
          "metadata": {},
          "execution_count": 48
        }
      ]
    },
    {
      "cell_type": "code",
      "source": [
        "' ab '.join(['1','2','3','4'])"
      ],
      "metadata": {
        "id": "EdwCgJlRpoQR",
        "outputId": "159bbde8-b118-4072-dccb-c7c92aa0871c",
        "colab": {
          "base_uri": "https://localhost:8080/",
          "height": 35
        }
      },
      "execution_count": 51,
      "outputs": [
        {
          "output_type": "execute_result",
          "data": {
            "text/plain": [
              "'1 ab 2 ab 3 ab 4'"
            ],
            "application/vnd.google.colaboratory.intrinsic+json": {
              "type": "string"
            }
          },
          "metadata": {},
          "execution_count": 51
        }
      ]
    },
    {
      "cell_type": "code",
      "source": [
        "li = [[1,2,3,4],[5,6],[9,10,11]]\n",
        "n = 3\n",
        "for row in li:\n",
        "    output = ' '.join([str(ele) for ele in row])\n",
        "    print(output)"
      ],
      "metadata": {
        "id": "IHTigXeZjRed",
        "outputId": "7ef91bc9-2da1-4491-997f-9840b2ee677a",
        "colab": {
          "base_uri": "https://localhost:8080/"
        }
      },
      "execution_count": 58,
      "outputs": [
        {
          "output_type": "stream",
          "name": "stdout",
          "text": [
            "1 2 3 4\n",
            "5 6\n",
            "9 10 11\n"
          ]
        }
      ]
    },
    {
      "cell_type": "code",
      "source": [],
      "metadata": {
        "id": "FFNwS-SUsopp"
      },
      "execution_count": null,
      "outputs": []
    }
  ],
  "metadata": {
    "colab": {
      "provenance": []
    },
    "kernelspec": {
      "display_name": "Python 3",
      "name": "python3"
    },
    "language_info": {
      "name": "python"
    }
  },
  "nbformat": 4,
  "nbformat_minor": 0
}