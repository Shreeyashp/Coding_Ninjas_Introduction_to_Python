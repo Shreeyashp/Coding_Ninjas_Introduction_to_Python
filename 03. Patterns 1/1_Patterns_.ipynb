{
  "cells": [
    {
      "cell_type": "markdown",
      "source": [
        "prime number\n",
        "\n",
        "a whole number greater than 1 that cannot be exactly divided by any whole number other than itself and 1 (e.g. 2, 3, 5, 7, 11)."
      ],
      "metadata": {
        "id": "AjXaZcEgx-e5"
      }
    },
    {
      "cell_type": "code",
      "source": [
        "n = int(input())\n",
        "i = 2\n",
        "flag = False\n",
        "\n",
        "while i<2:\n",
        "  if n%2==0:\n",
        "    flag = True\n",
        "  i = i+1\n",
        "\n",
        "if flag:\n",
        "  print('not prime no.')\n",
        "else:\n",
        "  print('prime no.')"
      ],
      "metadata": {
        "colab": {
          "base_uri": "https://localhost:8080/"
        },
        "id": "x8WHnbcIxqNG",
        "outputId": "5f211dd5-5bd7-4cda-e01f-85f3b2b36c62"
      },
      "execution_count": 10,
      "outputs": [
        {
          "output_type": "stream",
          "name": "stdout",
          "text": [
            "5\n",
            "prime no.\n"
          ]
        }
      ]
    },
    {
      "cell_type": "code",
      "source": [
        "n = int(input())\n",
        "k = 2\n",
        "while k <= n:\n",
        "  d = 2\n",
        "  flag = False\n",
        "  while d<k:\n",
        "    if k%d==0:\n",
        "      flag = True\n",
        "    d = d+1\n",
        "  if not flag:\n",
        "    print(k)\n",
        "  k= k+1"
      ],
      "metadata": {
        "colab": {
          "base_uri": "https://localhost:8080/"
        },
        "id": "v-oUdiLtxqVf",
        "outputId": "7858a81b-ff81-477a-9983-d58104522920"
      },
      "execution_count": 13,
      "outputs": [
        {
          "output_type": "stream",
          "name": "stdout",
          "text": [
            "10\n",
            "2\n",
            "3\n",
            "5\n",
            "7\n"
          ]
        }
      ]
    },
    {
      "cell_type": "code",
      "source": [
        "\"\""
      ],
      "metadata": {
        "id": "4sq6gD1PxqYQ"
      },
      "execution_count": null,
      "outputs": []
    },
    {
      "cell_type": "code",
      "source": [
        "n = int(input())\n",
        "i = 1\n",
        "while i<=n: # go from i to n i.e  1 to n\n",
        "  j = 1\n",
        "  while j<=n:\n",
        "    print('*', end='')\n",
        "    j=j+1\n",
        "  print()\n",
        "  i=i+1"
      ],
      "metadata": {
        "colab": {
          "base_uri": "https://localhost:8080/"
        },
        "id": "s_rcOdBxxqaW",
        "outputId": "a97d012e-b87a-4423-e3f8-1477b396501b"
      },
      "execution_count": 16,
      "outputs": [
        {
          "output_type": "stream",
          "name": "stdout",
          "text": [
            "5\n",
            "*****\n",
            "*****\n",
            "*****\n",
            "*****\n",
            "*****\n"
          ]
        }
      ]
    },
    {
      "cell_type": "markdown",
      "source": [],
      "metadata": {
        "id": "A88Ek2qgMjc2"
      }
    },
    {
      "cell_type": "code",
      "source": [
        "n = int(input())\n",
        "i = 1\n",
        "while i<=n: # go from i to n i.e  1 to n\n",
        "  j = 1\n",
        "  while j<=n:\n",
        "    print(n, end='')\n",
        "    j=j+1\n",
        "  print()\n",
        "  i=i+1"
      ],
      "metadata": {
        "colab": {
          "base_uri": "https://localhost:8080/"
        },
        "id": "HltIg-XQxqd0",
        "outputId": "f6005f0f-ad88-4cdd-8628-d7438dc0c8aa"
      },
      "execution_count": 17,
      "outputs": [
        {
          "output_type": "stream",
          "name": "stdout",
          "text": [
            "5\n",
            "55555\n",
            "55555\n",
            "55555\n",
            "55555\n",
            "55555\n"
          ]
        }
      ]
    },
    {
      "cell_type": "code",
      "source": [],
      "metadata": {
        "id": "P_hrcjH4NTU_"
      },
      "execution_count": null,
      "outputs": []
    }
  ],
  "metadata": {
    "colab": {
      "provenance": []
    },
    "kernelspec": {
      "display_name": "Python 3",
      "name": "python3"
    },
    "language_info": {
      "name": "python"
    }
  },
  "nbformat": 4,
  "nbformat_minor": 0
}