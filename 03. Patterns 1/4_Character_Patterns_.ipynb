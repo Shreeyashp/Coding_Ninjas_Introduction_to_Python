{
  "cells": [
    {
      "cell_type": "code",
      "source": [
        "ord('A')"
      ],
      "metadata": {
        "colab": {
          "base_uri": "https://localhost:8080/"
        },
        "id": "fOekS1LnVKyG",
        "outputId": "b9bf58f2-e872-4d69-a453-865a63521d23"
      },
      "execution_count": 1,
      "outputs": [
        {
          "output_type": "execute_result",
          "data": {
            "text/plain": [
              "65"
            ]
          },
          "metadata": {},
          "execution_count": 1
        }
      ]
    },
    {
      "cell_type": "code",
      "source": [
        "ord('B')"
      ],
      "metadata": {
        "colab": {
          "base_uri": "https://localhost:8080/"
        },
        "id": "OiUsoiC7cfog",
        "outputId": "cc2cf683-e17d-4fb5-88c3-3e71783a5efd"
      },
      "execution_count": 2,
      "outputs": [
        {
          "output_type": "execute_result",
          "data": {
            "text/plain": [
              "66"
            ]
          },
          "metadata": {},
          "execution_count": 2
        }
      ]
    },
    {
      "cell_type": "code",
      "source": [
        "print(chr(65))\n",
        "print(chr(66))"
      ],
      "metadata": {
        "colab": {
          "base_uri": "https://localhost:8080/"
        },
        "id": "ZCenb1n4ch7L",
        "outputId": "0f454c7e-fdd6-458b-cea0-9ae85e4e2ce9"
      },
      "execution_count": 3,
      "outputs": [
        {
          "output_type": "stream",
          "name": "stdout",
          "text": [
            "A\n",
            "B\n"
          ]
        }
      ]
    },
    {
      "cell_type": "code",
      "source": [
        "k = int(input())\n",
        "x = ord('A')\n",
        "asciiTarget = x+k-1\n",
        "targetChar = chr(asciiTarget)\n",
        "targetChar"
      ],
      "metadata": {
        "colab": {
          "base_uri": "https://localhost:8080/",
          "height": 52
        },
        "id": "VLVDcw-Zcj98",
        "outputId": "d12a37a7-997e-4574-d912-f1c3fcadf4a8"
      },
      "execution_count": 5,
      "outputs": [
        {
          "name": "stdout",
          "output_type": "stream",
          "text": [
            "5\n"
          ]
        },
        {
          "output_type": "execute_result",
          "data": {
            "text/plain": [
              "'E'"
            ],
            "application/vnd.google.colaboratory.intrinsic+json": {
              "type": "string"
            }
          },
          "metadata": {},
          "execution_count": 5
        }
      ]
    },
    {
      "cell_type": "code",
      "source": [
        "n = int(input())\n",
        "i = 1\n",
        "while n>=i:\n",
        "    j = 1\n",
        "    while j<=n:\n",
        "        charP =chr(ord('A') +j-1)\n",
        "        print(charP,end='')\n",
        "        j = j+1\n",
        "    print()\n",
        "    i = i + 1"
      ],
      "metadata": {
        "colab": {
          "base_uri": "https://localhost:8080/"
        },
        "id": "gQg0-_8Ic8Me",
        "outputId": "0829bbde-ed0d-49c7-b1a8-ae30780ee9e1"
      },
      "execution_count": 6,
      "outputs": [
        {
          "output_type": "stream",
          "name": "stdout",
          "text": [
            "4\n",
            "ABCD\n",
            "ABCD\n",
            "ABCD\n",
            "ABCD\n"
          ]
        }
      ]
    },
    {
      "cell_type": "code",
      "source": [
        "n = int(input())\n",
        "i = 1\n",
        "while n>=i:\n",
        "    j = 1\n",
        "    start_char = chr(ord('A')+i-1)\n",
        "    while j<=n:\n",
        "        charP =chr(ord(start_char) +j-1)\n",
        "        print(charP,end='')\n",
        "        j = j+1\n",
        "    print()\n",
        "    i = i + 1"
      ],
      "metadata": {
        "colab": {
          "base_uri": "https://localhost:8080/"
        },
        "id": "0J2aWa98eB8B",
        "outputId": "bba5ce20-544d-4cb9-f88b-245cc277dccf"
      },
      "execution_count": 7,
      "outputs": [
        {
          "output_type": "stream",
          "name": "stdout",
          "text": [
            "4\n",
            "ABCD\n",
            "BCDE\n",
            "CDEF\n",
            "DEFG\n"
          ]
        }
      ]
    },
    {
      "cell_type": "code",
      "source": [
        "n = int(input())\n",
        "\n",
        "i = 1\n",
        "\n",
        "while i <= n:\n",
        "    \n",
        "    char = chr(ord('A') + i - 1)\n",
        "    \n",
        "    j = 1\n",
        "    \n",
        "    while j <= i:\n",
        "        print(char, end=\"\")\n",
        "        j += 1\n",
        "        \n",
        "    print()\n",
        "    i +=1"
      ],
      "metadata": {
        "colab": {
          "base_uri": "https://localhost:8080/"
        },
        "id": "M4UGd-wmeCbq",
        "outputId": "c3186599-b3c3-46b2-f381-8375e5efaf59"
      },
      "execution_count": 11,
      "outputs": [
        {
          "output_type": "stream",
          "name": "stdout",
          "text": [
            "5\n",
            "A\n",
            "BB\n",
            "CCC\n",
            "DDDD\n",
            "EEEEE\n"
          ]
        }
      ]
    },
    {
      "cell_type": "code",
      "source": [],
      "metadata": {
        "id": "9FgTH1I8eO-K"
      },
      "execution_count": null,
      "outputs": []
    }
  ],
  "metadata": {
    "colab": {
      "provenance": []
    },
    "kernelspec": {
      "display_name": "Python 3",
      "name": "python3"
    },
    "language_info": {
      "name": "python"
    }
  },
  "nbformat": 4,
  "nbformat_minor": 0
}