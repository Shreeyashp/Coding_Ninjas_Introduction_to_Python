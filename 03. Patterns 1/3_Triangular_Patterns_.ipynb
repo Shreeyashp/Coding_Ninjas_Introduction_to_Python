{
  "cells": [
    {
      "cell_type": "code",
      "source": [
        "n = int(input())\n",
        "i=1\n",
        "while i<=n:\n",
        "  j=1\n",
        "  while j<=i:\n",
        "    print(j, end = '')\n",
        "    j= j+1\n",
        "  print()\n",
        "  i= i+1\n"
      ],
      "metadata": {
        "colab": {
          "base_uri": "https://localhost:8080/"
        },
        "id": "HLGI7mCMVLcB",
        "outputId": "570b6470-2bb3-488f-a9bb-2b0156ebdf01"
      },
      "execution_count": 3,
      "outputs": [
        {
          "output_type": "stream",
          "name": "stdout",
          "text": [
            "4\n",
            "1\n",
            "12\n",
            "123\n",
            "1234\n"
          ]
        }
      ]
    },
    {
      "cell_type": "code",
      "source": [
        "n = int(input())\n",
        "i=1\n",
        "while i<=n:\n",
        "  j=1\n",
        "  k=i\n",
        "  while j<=i:\n",
        "    print(k, end = '')\n",
        "    j= j+1\n",
        "    k = k+1\n",
        "  print()\n",
        "  i = i+1\n"
      ],
      "metadata": {
        "colab": {
          "base_uri": "https://localhost:8080/"
        },
        "id": "ndXcmHyhVLYn",
        "outputId": "fd325c69-7bab-4d37-85fb-3f709e4b3b95"
      },
      "execution_count": 6,
      "outputs": [
        {
          "output_type": "stream",
          "name": "stdout",
          "text": [
            "5\n",
            "1\n",
            "23\n",
            "345\n",
            "4567\n",
            "56789\n"
          ]
        }
      ]
    },
    {
      "cell_type": "markdown",
      "source": [
        "look for 3rd row i.e 345\n",
        "\n",
        "* i =3 , \n",
        "\n",
        "  j=1 (1 is first column), k=i so k=3 \n",
        "\n",
        " so 3\n",
        "\n",
        "* j+1 so 1+1=2 (2nd column), k+1 so 3+1=4 \n",
        "  \n",
        "  so 4\n",
        "\n",
        "* j+1 so 2+1=3, k+1 so 4+1=5\n",
        "  \n",
        "   so 5\n",
        "\n",
        "   in 3rd column 345\n",
        "\n",
        "look for 4th row i.e 4567\n",
        "\n",
        "* i =4 , \n",
        "\n",
        " j=1 (1 is first column), k=i so k=4 \n",
        "\n",
        " so 4\n",
        "\n",
        "* j+1 so 1+1=2 (2nd column), k+1 so 4+1=5\n",
        "  \n",
        "  so 5\n"
      ],
      "metadata": {
        "id": "sytCwSYTYCZ3"
      }
    },
    {
      "cell_type": "code",
      "source": [
        "n = int(input())\n",
        "i = 1\n",
        "p = 1\n",
        "while i<=n:\n",
        "    j = 1\n",
        "    while j<=i:\n",
        "        print(p,end='')\n",
        "        p = p + 1 # p is 1 so it will keep increment.\n",
        "        j = j + 1\n",
        "    print()\n",
        "    i = i + 1   "
      ],
      "metadata": {
        "colab": {
          "base_uri": "https://localhost:8080/"
        },
        "id": "6pAD-GxcVLWc",
        "outputId": "d6deb142-0d07-4b89-be26-47aa0135306f"
      },
      "execution_count": 7,
      "outputs": [
        {
          "output_type": "stream",
          "name": "stdout",
          "text": [
            "5\n",
            "1\n",
            "23\n",
            "456\n",
            "78910\n",
            "1112131415\n"
          ]
        }
      ]
    },
    {
      "cell_type": "code",
      "source": [
        "v"
      ],
      "metadata": {
        "id": "VJ8f6QlTVLUN"
      },
      "execution_count": null,
      "outputs": []
    },
    {
      "cell_type": "code",
      "source": [],
      "metadata": {
        "id": "fOekS1LnVKyG"
      },
      "execution_count": null,
      "outputs": []
    }
  ],
  "metadata": {
    "colab": {
      "provenance": []
    },
    "kernelspec": {
      "display_name": "Python 3",
      "name": "python3"
    },
    "language_info": {
      "name": "python"
    }
  },
  "nbformat": 4,
  "nbformat_minor": 0
}