{
  "cells": [
    {
      "cell_type": "code",
      "source": [
        "n = int(input())\n",
        "\n",
        "i = 1\n",
        "while i<=n: #print n numbers\n",
        "  j = 1\n",
        "  while j<=n:\n",
        "    print(i,end=\"\")\n",
        "    j = j+1\n",
        "  print()\n",
        "  i = i+1\n",
        "\n",
        "# output:\n",
        "# 1111\n",
        "# 2222\n",
        "# 3333\n",
        "# 4444"
      ],
      "metadata": {
        "id": "oMqGoUHeNsIb"
      },
      "execution_count": null,
      "outputs": []
    },
    {
      "cell_type": "code",
      "source": [
        "n = int(input())\n",
        "\n",
        "i = 1\n",
        "while i<=n: #print n numbers\n",
        "  j = 1\n",
        "  while j<=n:\n",
        "    print(j,end=\"\")\n",
        "    j = j+1\n",
        "  print()\n",
        "  i = i+1\n",
        "\n",
        "#output:\n",
        "# 1234\n",
        "# 1234\n",
        "# 1234\n",
        "# 1234"
      ],
      "metadata": {
        "id": "q2brdPgRNsE_"
      },
      "execution_count": null,
      "outputs": []
    },
    {
      "cell_type": "code",
      "source": [
        "n = int(input())\n",
        "\n",
        "i = 1\n",
        "while i<=n: #print n numbers\n",
        "  j = 1\n",
        "  while j<=n:\n",
        "    print(n-j+1,end=\"\")\n",
        "    j = j+1\n",
        "  print()\n",
        "  i = i+1\n",
        "\n",
        "# output:\n",
        "# 4321\n",
        "# 4321\n",
        "# 4321\n",
        "# 4321"
      ],
      "metadata": {
        "id": "RkzOYdlqNsCV"
      },
      "execution_count": null,
      "outputs": []
    },
    {
      "cell_type": "code",
      "source": [],
      "metadata": {
        "id": "sqk3_k37Nr_6"
      },
      "execution_count": null,
      "outputs": []
    }
  ],
  "metadata": {
    "colab": {
      "provenance": []
    },
    "kernelspec": {
      "display_name": "Python 3",
      "name": "python3"
    },
    "language_info": {
      "name": "python"
    }
  },
  "nbformat": 4,
  "nbformat_minor": 0
}