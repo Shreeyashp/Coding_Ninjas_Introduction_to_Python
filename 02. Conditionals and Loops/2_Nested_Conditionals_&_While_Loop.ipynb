{
  "cells": [
    {
      "cell_type": "markdown",
      "source": [
        "## elif (else if)"
      ],
      "metadata": {
        "id": "ikoVZ7T1PUEt"
      }
    },
    {
      "cell_type": "code",
      "source": [
        "a = int(input())\n",
        "b = int(input())\n",
        "c = int(input())\n",
        "\n",
        "if a>=b and a>=c:\n",
        "  print('A is big: ',a)\n",
        "elif b>=a and b>=c:\n",
        "  print('B is big: ',b)\n",
        "else:\n",
        "  print('C is big: ',c)"
      ],
      "metadata": {
        "colab": {
          "base_uri": "https://localhost:8080/"
        },
        "id": "kUdUoyhkPOE2",
        "outputId": "61fa0e3f-4c71-4139-909d-c60f49a852fe"
      },
      "execution_count": 22,
      "outputs": [
        {
          "output_type": "stream",
          "name": "stdout",
          "text": [
            "2\n",
            "3\n",
            "1\n",
            "B is big:  3\n"
          ]
        }
      ]
    },
    {
      "cell_type": "code",
      "source": [
        "n = int(input())\n",
        "\n",
        "if n>10:\n",
        "  print('red')\n",
        "elif n>=5 and n<=10:\n",
        "  print('green')\n",
        "elif n>0 and n<5:\n",
        "  print('yellow')"
      ],
      "metadata": {
        "colab": {
          "base_uri": "https://localhost:8080/"
        },
        "id": "6sxQtFX-PODH",
        "outputId": "e6468441-9c32-4d3b-b3d5-626bb5aaa0b7"
      },
      "execution_count": 23,
      "outputs": [
        {
          "output_type": "stream",
          "name": "stdout",
          "text": [
            "18\n",
            "red\n"
          ]
        }
      ]
    },
    {
      "cell_type": "code",
      "source": [
        "n = int(input())\n",
        "\n",
        "if n>10:\n",
        "  print('red')\n",
        "elif n>=5 and n<=10:\n",
        "  print('green')\n",
        "elif n>0 and n<5:\n",
        "  print('yellow')"
      ],
      "metadata": {
        "colab": {
          "base_uri": "https://localhost:8080/"
        },
        "id": "3kcRYDahPOAs",
        "outputId": "31344114-4249-4b80-d9ec-ca081e873feb"
      },
      "execution_count": 24,
      "outputs": [
        {
          "output_type": "stream",
          "name": "stdout",
          "text": [
            "4\n",
            "yellow\n"
          ]
        }
      ]
    },
    {
      "cell_type": "code",
      "source": [
        "n = int(input())\n",
        "\n",
        "if n>10:\n",
        "  print('red')\n",
        "elif n>=5 and n<=10:\n",
        "  print('green')\n",
        "elif n>0 and n<5:\n",
        "  print('yellow')"
      ],
      "metadata": {
        "colab": {
          "base_uri": "https://localhost:8080/"
        },
        "id": "9Xn5Y7UgPN-U",
        "outputId": "b5ccf59d-d767-45ea-810d-15fd3d601eb5"
      },
      "execution_count": 25,
      "outputs": [
        {
          "output_type": "stream",
          "name": "stdout",
          "text": [
            "7\n",
            "green\n"
          ]
        }
      ]
    },
    {
      "cell_type": "markdown",
      "source": [
        "#### Nested if else:\n"
      ],
      "metadata": {
        "id": "zU2iRHQdrDMX"
      }
    },
    {
      "cell_type": "code",
      "source": [
        "n = int(input())\n",
        "\n",
        "if n%2==0:\n",
        "  print('even')\n",
        "  if n==0:\n",
        "    print('zero')\n",
        "else:\n",
        "  print('odd')    "
      ],
      "metadata": {
        "colab": {
          "base_uri": "https://localhost:8080/"
        },
        "id": "I8bqa3a_PN8A",
        "outputId": "dd8509a9-eead-43a1-8c48-9f7ceafa37ed"
      },
      "execution_count": 1,
      "outputs": [
        {
          "output_type": "stream",
          "name": "stdout",
          "text": [
            "0\n",
            "even\n",
            "zero\n"
          ]
        }
      ]
    },
    {
      "cell_type": "code",
      "source": [
        "n = int(input())\n",
        "\n",
        "if n%2==0:\n",
        "  print('even')\n",
        "elif n==0:\n",
        "    print('zero')\n",
        "else:\n",
        "  print('odd')    "
      ],
      "metadata": {
        "colab": {
          "base_uri": "https://localhost:8080/"
        },
        "id": "ywmH8Ze-PN5o",
        "outputId": "7de2d3af-62a5-46a1-8ece-e64fc7249504"
      },
      "execution_count": 3,
      "outputs": [
        {
          "output_type": "stream",
          "name": "stdout",
          "text": [
            "8\n",
            "even\n"
          ]
        }
      ]
    },
    {
      "cell_type": "code",
      "source": [
        "#if n and m is even print1\n",
        "# if n and m is odd print2\n",
        "# if n is odd\n",
        "n=int(input())\n",
        "m=int(input())\n",
        "\n",
        "if m%2==0:\n",
        "  if n%2==0:\n",
        "    print(1)\n",
        "  else:\n",
        "    print(2)\n",
        "else:\n",
        "  print(3)"
      ],
      "metadata": {
        "colab": {
          "base_uri": "https://localhost:8080/"
        },
        "id": "5cRZz8GfPN3P",
        "outputId": "b555f9a1-44e2-489f-d386-6837433e73bf"
      },
      "execution_count": 4,
      "outputs": [
        {
          "output_type": "stream",
          "name": "stdout",
          "text": [
            "7\n",
            "8\n",
            "2\n"
          ]
        }
      ]
    },
    {
      "cell_type": "code",
      "source": [
        "if True or True:\n",
        "    if False and True or False:\n",
        "       print('A')\n",
        "    elif False and False or True and True:\n",
        "       print('B')\n",
        "    else:\n",
        "       print('C')\n",
        "else:\n",
        "     print('D')"
      ],
      "metadata": {
        "colab": {
          "base_uri": "https://localhost:8080/"
        },
        "id": "MHcMoyBqroJL",
        "outputId": "c69bd1fc-830f-4635-8592-13e296ccab74"
      },
      "execution_count": 6,
      "outputs": [
        {
          "output_type": "stream",
          "name": "stdout",
          "text": [
            "B\n"
          ]
        }
      ]
    },
    {
      "cell_type": "markdown",
      "source": [
        "#### **While Loop:**\n",
        "\n",
        "if repeatedly my code should get execute so for that while is used"
      ],
      "metadata": {
        "id": "_0grqGjwsH1G"
      }
    },
    {
      "cell_type": "code",
      "source": [
        "n = int(input())\n",
        "count = 1\n",
        "\n",
        "while count<=n:\n",
        "  print(1)\n",
        "  count+1\n",
        "\n",
        "#infinite n will be call"
      ],
      "metadata": {
        "id": "FusHQDRpsBqG"
      },
      "execution_count": null,
      "outputs": []
    },
    {
      "cell_type": "code",
      "source": [
        "n = int(input())\n",
        "\n",
        "i=1\n",
        "while i<=n:\n",
        "  print(i)\n",
        "  i = i+1 # for increment from 1 to n , otherwise there will continue loop "
      ],
      "metadata": {
        "colab": {
          "base_uri": "https://localhost:8080/"
        },
        "id": "Am_OTjqfs4xU",
        "outputId": "7a33be9f-a802-42f4-ada7-800b7c106fd0"
      },
      "execution_count": 3,
      "outputs": [
        {
          "output_type": "stream",
          "name": "stdout",
          "text": [
            "10\n",
            "1\n",
            "2\n",
            "3\n",
            "4\n",
            "5\n",
            "6\n",
            "7\n",
            "8\n",
            "9\n",
            "10\n"
          ]
        }
      ]
    },
    {
      "cell_type": "code",
      "source": [],
      "metadata": {
        "id": "A2S5YN_Bwin8"
      },
      "execution_count": null,
      "outputs": []
    },
    {
      "cell_type": "code",
      "source": [],
      "metadata": {
        "id": "0cEWotkxw6-q"
      },
      "execution_count": null,
      "outputs": []
    }
  ],
  "metadata": {
    "colab": {
      "provenance": []
    },
    "kernelspec": {
      "display_name": "Python 3",
      "name": "python3"
    },
    "language_info": {
      "name": "python"
    }
  },
  "nbformat": 4,
  "nbformat_minor": 0
}