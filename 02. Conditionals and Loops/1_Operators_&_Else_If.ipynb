{
  "cells": [
    {
      "cell_type": "markdown",
      "source": [
        "## **Boolean**"
      ],
      "metadata": {
        "id": "N4Tlok1BkK3f"
      }
    },
    {
      "cell_type": "code",
      "source": [
        "a = True\n",
        "b = False\n",
        "c = True\n",
        "type(c)"
      ],
      "metadata": {
        "colab": {
          "base_uri": "https://localhost:8080/"
        },
        "id": "M3yErXGzkKPl",
        "outputId": "22df35de-8ff2-46f5-ab00-63948eb0becf"
      },
      "execution_count": 1,
      "outputs": [
        {
          "output_type": "execute_result",
          "data": {
            "text/plain": [
              "bool"
            ]
          },
          "metadata": {},
          "execution_count": 1
        }
      ]
    },
    {
      "cell_type": "markdown",
      "source": [
        "## **Relational Operator**"
      ],
      "metadata": {
        "id": "ZlVsOaAikVcq"
      }
    },
    {
      "cell_type": "code",
      "source": [
        "a=10\n",
        "b=20\n",
        "print(a>b)\n",
        "print(a>=b)\n",
        "print(a<b)\n",
        "print(a<=b)\n",
        "print(a==b) \n",
        "print(a!=b) #not equals to\n",
        "\n",
        "# a=b i.e what to put b value in a and = sign is use for assign so taken =="
      ],
      "metadata": {
        "colab": {
          "base_uri": "https://localhost:8080/"
        },
        "id": "jrZThrJPkKMU",
        "outputId": "aaa7d1ff-ff13-4cd7-fdfe-0ad54186205f"
      },
      "execution_count": 2,
      "outputs": [
        {
          "output_type": "stream",
          "name": "stdout",
          "text": [
            "False\n",
            "False\n",
            "True\n",
            "True\n",
            "False\n",
            "True\n"
          ]
        }
      ]
    },
    {
      "cell_type": "markdown",
      "source": [
        " ## **Logical Operators**"
      ],
      "metadata": {
        "id": "ZTTtrbGukiDV"
      }
    },
    {
      "cell_type": "code",
      "source": [
        "a=10\n",
        "b=20\n",
        "c1=a>10\n",
        "c2=b>10\n",
        "r1=c1 and c2 # both should be True \n",
        "r2=c1 or c2  # or = one sholud be true then also ok\n",
        "r3= not(c1)\n",
        "print(r1)\n",
        "print(r2)\n",
        "print(r3)"
      ],
      "metadata": {
        "colab": {
          "base_uri": "https://localhost:8080/"
        },
        "id": "_6BBK4CikKJj",
        "outputId": "c74f84a2-bd89-4330-a185-bb296a7eee03"
      },
      "execution_count": 3,
      "outputs": [
        {
          "output_type": "stream",
          "name": "stdout",
          "text": [
            "False\n",
            "True\n",
            "True\n"
          ]
        }
      ]
    },
    {
      "cell_type": "markdown",
      "source": [
        "# ***`IF_ELSE`***"
      ],
      "metadata": {
        "id": "ZxQb8VnDmy8B"
      }
    },
    {
      "cell_type": "code",
      "source": [
        "a=True\n",
        "\n",
        "if a:\n",
        "  print('im if')\n",
        "else:\n",
        "  print('im else')"
      ],
      "metadata": {
        "colab": {
          "base_uri": "https://localhost:8080/"
        },
        "id": "5JZWQSd3kKHJ",
        "outputId": "c443a23c-fb65-440a-ff84-2f519bcc1bad"
      },
      "execution_count": 4,
      "outputs": [
        {
          "output_type": "stream",
          "name": "stdout",
          "text": [
            "im if\n"
          ]
        }
      ]
    },
    {
      "cell_type": "code",
      "source": [
        "a=False\n",
        "if a:\n",
        "  print('im if')\n",
        "else:\n",
        "  print('im else')"
      ],
      "metadata": {
        "colab": {
          "base_uri": "https://localhost:8080/"
        },
        "id": "gWGxirfYnNu9",
        "outputId": "81a1db03-1fd0-412c-b733-52194d558f4d"
      },
      "execution_count": 5,
      "outputs": [
        {
          "output_type": "stream",
          "name": "stdout",
          "text": [
            "im else\n"
          ]
        }
      ]
    },
    {
      "cell_type": "code",
      "source": [
        "n = int(input())\n",
        "\n",
        "a = n%2\n",
        "is_even=(a==0)\n",
        "\n",
        "if is_even:\n",
        "  print('even')\n",
        "else:\n",
        "  print('odd')"
      ],
      "metadata": {
        "colab": {
          "base_uri": "https://localhost:8080/"
        },
        "id": "NbtubacinNrI",
        "outputId": "1fc20590-43e7-484d-a60a-18f841237b3f"
      },
      "execution_count": 9,
      "outputs": [
        {
          "output_type": "stream",
          "name": "stdout",
          "text": [
            "10\n",
            "even\n"
          ]
        }
      ]
    },
    {
      "cell_type": "code",
      "source": [
        "n = int(input())\n",
        "\n",
        "is_even = (n%2==0)\n",
        "\n",
        "if is_even:\n",
        "  print('even')\n",
        "else:\n",
        "  print('odd')"
      ],
      "metadata": {
        "colab": {
          "base_uri": "https://localhost:8080/"
        },
        "id": "nGjuhnUcsU6P",
        "outputId": "54efa960-2ab7-4e73-c51e-b4c74253fa79"
      },
      "execution_count": 10,
      "outputs": [
        {
          "output_type": "stream",
          "name": "stdout",
          "text": [
            "3\n",
            "odd\n"
          ]
        }
      ]
    },
    {
      "cell_type": "code",
      "source": [
        "n = int(input())\n",
        "\n",
        "if n%2==0:\n",
        "  print('even')\n",
        "else:\n",
        "  print('odd')"
      ],
      "metadata": {
        "colab": {
          "base_uri": "https://localhost:8080/"
        },
        "id": "JyC7jshzs5rG",
        "outputId": "018afdc3-e51f-482a-8647-177014d06e0c"
      },
      "execution_count": 11,
      "outputs": [
        {
          "output_type": "stream",
          "name": "stdout",
          "text": [
            "4\n",
            "even\n"
          ]
        }
      ]
    },
    {
      "cell_type": "code",
      "source": [
        "#n is -ive or +ive\n",
        "n=int(input())\n",
        "if n>0:\n",
        "    print('positive')\n",
        "elif n<0:\n",
        "    print('negative')\n",
        "else:\n",
        "    print(\"zero\")"
      ],
      "metadata": {
        "colab": {
          "base_uri": "https://localhost:8080/"
        },
        "id": "c7XhKzjRtPP3",
        "outputId": "bae70c64-9744-4fff-8062-aaa0647d45c4"
      },
      "execution_count": 12,
      "outputs": [
        {
          "output_type": "stream",
          "name": "stdout",
          "text": [
            "5\n",
            "positive\n"
          ]
        }
      ]
    },
    {
      "cell_type": "code",
      "source": [
        "a = int(input())\n",
        "b = int(input())\n",
        "\n",
        "c1 = a<10\n",
        "c2 = b<10\n",
        "\n",
        "r = c1 and c2\n",
        "\n",
        "if r:\n",
        "  print('both r less than 10')\n",
        "else:\n",
        "  print('no')"
      ],
      "metadata": {
        "colab": {
          "base_uri": "https://localhost:8080/"
        },
        "id": "eeKFLopctR16",
        "outputId": "272805b8-e1f4-496c-a4d1-f390a132d3c5"
      },
      "execution_count": 13,
      "outputs": [
        {
          "output_type": "stream",
          "name": "stdout",
          "text": [
            "4\n",
            "87\n",
            "no\n"
          ]
        }
      ]
    },
    {
      "cell_type": "code",
      "source": [
        "a = int(input())\n",
        "b = int(input())\n",
        "\n",
        "c1 = a<10\n",
        "c2 = b<10\n",
        "\n",
        "r = c1 and c2\n",
        "\n",
        "if r:\n",
        "  print('both r less than 10')\n",
        "else:\n",
        "  print('no')"
      ],
      "metadata": {
        "colab": {
          "base_uri": "https://localhost:8080/"
        },
        "id": "kaYMMQgHuUhe",
        "outputId": "8046182e-e3ed-4cbe-df5c-16456308958e"
      },
      "execution_count": 14,
      "outputs": [
        {
          "output_type": "stream",
          "name": "stdout",
          "text": [
            "4\n",
            "5\n",
            "both r less than 10\n"
          ]
        }
      ]
    },
    {
      "cell_type": "code",
      "source": [
        "a = int(input())\n",
        "b = int(input())\n",
        "\n",
        "c1 = a<10\n",
        "c2 = b<10\n",
        "\n",
        "r = c1 or c2\n",
        "\n",
        "if r:\n",
        "  print('both r less than 10')\n",
        "else:\n",
        "  print('no')"
      ],
      "metadata": {
        "colab": {
          "base_uri": "https://localhost:8080/"
        },
        "id": "LG3AlJo1uV-V",
        "outputId": "13315ee1-0f28-46dc-80cd-2bb6065fdbe8"
      },
      "execution_count": 15,
      "outputs": [
        {
          "output_type": "stream",
          "name": "stdout",
          "text": [
            "3\n",
            "98\n",
            "both r less than 10\n"
          ]
        }
      ]
    },
    {
      "cell_type": "code",
      "source": [
        "a = int(input())\n",
        "b = int(input())\n",
        "\n",
        "c1 = a<10\n",
        "c2 = b<10\n",
        "\n",
        "r = c1 or c2\n",
        "\n",
        "if r:\n",
        "  print('both r less than 10')\n",
        "else:\n",
        "  print('no')"
      ],
      "metadata": {
        "colab": {
          "base_uri": "https://localhost:8080/"
        },
        "id": "-DdYSqySuZXO",
        "outputId": "93cce486-702b-402e-d2d5-23589bebd810"
      },
      "execution_count": 16,
      "outputs": [
        {
          "output_type": "stream",
          "name": "stdout",
          "text": [
            "78\n",
            "90\n",
            "no\n"
          ]
        }
      ]
    },
    {
      "cell_type": "code",
      "source": [
        "a = int(input())\n",
        "b = int(input())\n",
        "\n",
        "if a<10 or b<10:\n",
        "  print('both r less than 10')\n",
        "else:\n",
        "  print('no')"
      ],
      "metadata": {
        "colab": {
          "base_uri": "https://localhost:8080/"
        },
        "id": "zJS8u22sudiS",
        "outputId": "d202a13a-ab17-414b-ff05-65a6d1b5827f"
      },
      "execution_count": 18,
      "outputs": [
        {
          "output_type": "stream",
          "name": "stdout",
          "text": [
            "3\n",
            "4\n",
            "no\n"
          ]
        }
      ]
    },
    {
      "cell_type": "code",
      "source": [
        "5"
      ],
      "metadata": {
        "id": "L_Jvjguy40D8"
      },
      "execution_count": null,
      "outputs": []
    }
  ],
  "metadata": {
    "colab": {
      "provenance": []
    },
    "kernelspec": {
      "display_name": "Python 3",
      "name": "python3"
    },
    "language_info": {
      "name": "python"
    }
  },
  "nbformat": 4,
  "nbformat_minor": 0
}