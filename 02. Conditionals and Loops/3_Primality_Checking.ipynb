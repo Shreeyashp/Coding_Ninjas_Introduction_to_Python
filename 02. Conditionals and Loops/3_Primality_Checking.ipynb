{
  "cells": [
    {
      "cell_type": "markdown",
      "source": [
        "prime number\n",
        "\n",
        "a whole number greater than 1 that cannot be exactly divided by any whole number other than itself and 1 (e.g. 2, 3, 5, 7, 11)."
      ],
      "metadata": {
        "id": "AjXaZcEgx-e5"
      }
    },
    {
      "cell_type": "code",
      "source": [
        "n = int(input())\n",
        "i = 2\n",
        "flag = False\n",
        "\n",
        "while i<2:\n",
        "  if n%2==0:\n",
        "    flag = True\n",
        "  i = i+1\n",
        "\n",
        "if flag:\n",
        "  print('not prime no.')\n",
        "else:\n",
        "  print('prime no.')"
      ],
      "metadata": {
        "colab": {
          "base_uri": "https://localhost:8080/"
        },
        "id": "x8WHnbcIxqNG",
        "outputId": "5f211dd5-5bd7-4cda-e01f-85f3b2b36c62"
      },
      "execution_count": 10,
      "outputs": [
        {
          "output_type": "stream",
          "name": "stdout",
          "text": [
            "5\n",
            "prime no.\n"
          ]
        }
      ]
    },
    {
      "cell_type": "code",
      "source": [
        "n = int(input())\n",
        "k = 2\n",
        "while k <= n:\n",
        "  d = 2\n",
        "  flag = False\n",
        "  while d<k:\n",
        "    if k%d==0:\n",
        "      flag = True\n",
        "    d = d+1\n",
        "  if not flag:\n",
        "    print(k)\n",
        "  k= k+1"
      ],
      "metadata": {
        "colab": {
          "base_uri": "https://localhost:8080/"
        },
        "id": "v-oUdiLtxqVf",
        "outputId": "7858a81b-ff81-477a-9983-d58104522920"
      },
      "execution_count": 13,
      "outputs": [
        {
          "output_type": "stream",
          "name": "stdout",
          "text": [
            "10\n",
            "2\n",
            "3\n",
            "5\n",
            "7\n"
          ]
        }
      ]
    },
    {
      "cell_type": "code",
      "source": [
        "\"\""
      ],
      "metadata": {
        "id": "4sq6gD1PxqYQ"
      },
      "execution_count": null,
      "outputs": []
    },
    {
      "cell_type": "code",
      "source": [],
      "metadata": {
        "id": "s_rcOdBxxqaW"
      },
      "execution_count": null,
      "outputs": []
    },
    {
      "cell_type": "code",
      "source": [],
      "metadata": {
        "id": "HltIg-XQxqd0"
      },
      "execution_count": null,
      "outputs": []
    }
  ],
  "metadata": {
    "colab": {
      "provenance": []
    },
    "kernelspec": {
      "display_name": "Python 3",
      "name": "python3"
    },
    "language_info": {
      "name": "python"
    }
  },
  "nbformat": 4,
  "nbformat_minor": 0
}