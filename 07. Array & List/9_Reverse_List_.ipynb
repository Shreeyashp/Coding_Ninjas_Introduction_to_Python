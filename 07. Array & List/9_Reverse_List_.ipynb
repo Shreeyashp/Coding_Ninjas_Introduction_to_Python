{
  "cells": [
    {
      "cell_type": "code",
      "source": [
        "0   1    2    3    4     5\n",
        "|                  |     |\n",
        "\n",
        "i                len-2  len-1"
      ],
      "metadata": {
        "id": "whIImCqWhCH7"
      },
      "execution_count": null,
      "outputs": []
    },
    {
      "cell_type": "code",
      "source": [
        "def reverse_l(li):\n",
        "  lenght = len(li)\n",
        "  for i in range(lenght//2): # // gives u int value & / gives u float value\n",
        "    li[i], li[lenght-i-1] = li[lenght-i-1], li[i] #swap"
      ],
      "metadata": {
        "id": "JKQOq8czgCN2"
      },
      "execution_count": 49,
      "outputs": []
    },
    {
      "cell_type": "code",
      "source": [
        "li = [1,2,3,4,5,6]\n",
        "reverse_l(li)\n",
        "print(li)"
      ],
      "metadata": {
        "colab": {
          "base_uri": "https://localhost:8080/"
        },
        "id": "czKajDLTbdwf",
        "outputId": "a7f82122-3c74-474c-8be2-a291c292fd4a"
      },
      "execution_count": 50,
      "outputs": [
        {
          "output_type": "stream",
          "name": "stdout",
          "text": [
            "[6, 5, 4, 3, 2, 1]\n"
          ]
        }
      ]
    },
    {
      "cell_type": "code",
      "source": [
        "def reverse_l(li):\n",
        "    length = len(li)\n",
        "    for i in range(length//2):\n",
        "        li[i],li[-i-1]=li[-i-1],li[i]\n",
        "\n",
        "li = [1,2,3,4,5,6]\n",
        "reverse_l(li)\n",
        "print(li)"
      ],
      "metadata": {
        "id": "6jhpMuSmif-5",
        "outputId": "ca927d62-97f7-4dff-b6ec-e9d04be55c04",
        "colab": {
          "base_uri": "https://localhost:8080/"
        }
      },
      "execution_count": 52,
      "outputs": [
        {
          "output_type": "stream",
          "name": "stdout",
          "text": [
            "[6, 5, 4, 3, 2, 1]\n"
          ]
        }
      ]
    },
    {
      "cell_type": "code",
      "source": [
        "li = [1, 2, 3, 4, 5, 6]\n",
        "li = li[::-1]\n",
        "li"
      ],
      "metadata": {
        "id": "eXIH0gbkiZFH",
        "outputId": "d523a198-2dcb-49a0-d089-867766d8693e",
        "colab": {
          "base_uri": "https://localhost:8080/"
        }
      },
      "execution_count": 51,
      "outputs": [
        {
          "output_type": "execute_result",
          "data": {
            "text/plain": [
              "[6, 5, 4, 3, 2, 1]"
            ]
          },
          "metadata": {},
          "execution_count": 51
        }
      ]
    },
    {
      "cell_type": "code",
      "source": [],
      "metadata": {
        "id": "KTTIk_WIiZcL"
      },
      "execution_count": null,
      "outputs": []
    }
  ],
  "metadata": {
    "colab": {
      "provenance": []
    },
    "kernelspec": {
      "display_name": "Python 3",
      "name": "python3"
    },
    "language_info": {
      "name": "python"
    }
  },
  "nbformat": 4,
  "nbformat_minor": 0
}