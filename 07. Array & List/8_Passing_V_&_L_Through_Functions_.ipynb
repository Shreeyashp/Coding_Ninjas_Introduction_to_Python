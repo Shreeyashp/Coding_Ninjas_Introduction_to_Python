{
  "cells": [
    {
      "cell_type": "markdown",
      "source": [
        "Passing V Through Functions"
      ],
      "metadata": {
        "id": "AidPP1rSW7d0"
      }
    },
    {
      "cell_type": "code",
      "source": [
        "def increment(a):\n",
        "    a = a+2\n",
        "    return\n",
        "\n",
        "a =2\n",
        "increment(a)\n",
        "print(a)"
      ],
      "metadata": {
        "colab": {
          "base_uri": "https://localhost:8080/"
        },
        "id": "6r8ejbwhWr2W",
        "outputId": "93f29c87-be3c-4491-de8b-b04827a45892"
      },
      "execution_count": 44,
      "outputs": [
        {
          "output_type": "stream",
          "name": "stdout",
          "text": [
            "2\n"
          ]
        }
      ]
    },
    {
      "cell_type": "code",
      "source": [
        "def increment(a):\n",
        "    a = a+2\n",
        "    return a\n",
        "\n",
        "a =2\n",
        "a = increment(a)\n",
        "print(a)"
      ],
      "metadata": {
        "id": "3FvJQnXGXb_K",
        "outputId": "c7fca6a4-65f8-46f0-e81f-9c46135b6b3a",
        "colab": {
          "base_uri": "https://localhost:8080/"
        }
      },
      "execution_count": 45,
      "outputs": [
        {
          "output_type": "stream",
          "name": "stdout",
          "text": [
            "4\n"
          ]
        }
      ]
    },
    {
      "cell_type": "markdown",
      "source": [
        "Passing L Through Functions"
      ],
      "metadata": {
        "id": "SP55XuKfafyG"
      }
    },
    {
      "cell_type": "code",
      "source": [
        "def increment(li):\n",
        "    li[0]= li[0]+2 # index 0 + 2\n",
        "    return\n",
        "\n",
        "li =[1,2,3,4]\n",
        "increment(li)\n",
        "print(li)"
      ],
      "metadata": {
        "id": "_Z6mPcCPYMZi",
        "outputId": "6b0175a0-2fa4-47d1-8003-5e5807a6f8b2",
        "colab": {
          "base_uri": "https://localhost:8080/"
        }
      },
      "execution_count": 46,
      "outputs": [
        {
          "output_type": "stream",
          "name": "stdout",
          "text": [
            "[3, 2, 3, 4]\n"
          ]
        }
      ]
    },
    {
      "cell_type": "code",
      "source": [
        "def increment(li):\n",
        "    li = [3,3,4]\n",
        "    return\n",
        "\n",
        "li =[1,2,3,4]\n",
        "increment(li)\n",
        "print(li)"
      ],
      "metadata": {
        "id": "OvmTJMvJa2T5",
        "outputId": "c9517f98-ba1d-4a12-ddc4-5f172cb8fd5e",
        "colab": {
          "base_uri": "https://localhost:8080/"
        }
      },
      "execution_count": 47,
      "outputs": [
        {
          "output_type": "stream",
          "name": "stdout",
          "text": [
            "[1, 2, 3, 4]\n"
          ]
        }
      ]
    },
    {
      "cell_type": "code",
      "source": [
        "def increment(li):\n",
        "    li = [3,3,4]\n",
        "    return li\n",
        "\n",
        "li =[1,2,3,4]\n",
        "li = increment(li)\n",
        "print(li)"
      ],
      "metadata": {
        "id": "CxRdr0E0bdaV",
        "outputId": "686308ee-cb78-4cd8-bfd0-94b4da951805",
        "colab": {
          "base_uri": "https://localhost:8080/"
        }
      },
      "execution_count": 48,
      "outputs": [
        {
          "output_type": "stream",
          "name": "stdout",
          "text": [
            "[3, 3, 4]\n"
          ]
        }
      ]
    },
    {
      "cell_type": "code",
      "source": [],
      "metadata": {
        "id": "czKajDLTbdwf"
      },
      "execution_count": null,
      "outputs": []
    }
  ],
  "metadata": {
    "colab": {
      "provenance": []
    },
    "kernelspec": {
      "display_name": "Python 3",
      "name": "python3"
    },
    "language_info": {
      "name": "python"
    }
  },
  "nbformat": 4,
  "nbformat_minor": 0
}