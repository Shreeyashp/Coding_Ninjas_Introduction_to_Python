{
  "cells": [
    {
      "cell_type": "code",
      "source": [],
      "metadata": {
        "id": "J70IICvTSIeI"
      },
      "execution_count": null,
      "outputs": []
    },
    {
      "cell_type": "code",
      "source": [],
      "metadata": {
        "id": "wTeHyrUaSIjd"
      },
      "execution_count": null,
      "outputs": []
    },
    {
      "cell_type": "code",
      "source": [
        "li = [1,2,3,4,5] \n",
        "li"
      ],
      "metadata": {
        "id": "tGzSIeLFSIl3",
        "outputId": "7924e40d-4f03-4b59-aa76-a348468ed2a3",
        "colab": {
          "base_uri": "https://localhost:8080/"
        }
      },
      "execution_count": 31,
      "outputs": [
        {
          "output_type": "execute_result",
          "data": {
            "text/plain": [
              "[1, 2, 3, 4, 5]"
            ]
          },
          "metadata": {},
          "execution_count": 31
        }
      ]
    },
    {
      "cell_type": "code",
      "source": [
        "# want to search index of li"
      ],
      "metadata": {
        "id": "HfJIjGeoSIoN"
      },
      "execution_count": null,
      "outputs": []
    },
    {
      "cell_type": "code",
      "source": [
        "def linear_search(li, ele): # li= full_list, ele = element to search in list\n",
        "  for i in range(len(li)):\n",
        "    if li[i] == ele:\n",
        "      print(i)\n",
        "    else:\n",
        "      print(-1)"
      ],
      "metadata": {
        "id": "h95GE2x5Sc7B"
      },
      "execution_count": 33,
      "outputs": []
    },
    {
      "cell_type": "code",
      "source": [
        "li = [1,2,6,9,5]\n",
        "index = linear_search(li,9)\n",
        "print(index)"
      ],
      "metadata": {
        "id": "a--f1SibSIqp",
        "outputId": "f7e8fae7-d741-45aa-f96e-564dfb903670",
        "colab": {
          "base_uri": "https://localhost:8080/"
        }
      },
      "execution_count": 34,
      "outputs": [
        {
          "output_type": "stream",
          "name": "stdout",
          "text": [
            "-1\n",
            "-1\n",
            "-1\n",
            "3\n",
            "-1\n",
            "None\n"
          ]
        }
      ]
    },
    {
      "cell_type": "code",
      "source": [
        "def linear_search(li, ele): # li= full_list, ele = element to search in list\n",
        "  for i in range(len(li)):\n",
        "    if li[i] == ele:\n",
        "      return(i)\n",
        "  return(-1)"
      ],
      "metadata": {
        "id": "7QS_3E-3SItD"
      },
      "execution_count": 36,
      "outputs": []
    },
    {
      "cell_type": "code",
      "source": [
        "li = [1,2,6,9,5]\n",
        "index = linear_search(li,2)\n",
        "print(index)"
      ],
      "metadata": {
        "id": "GPoq5-lNSIvr",
        "outputId": "43584e56-d369-4ef5-bad5-76672076a62d",
        "colab": {
          "base_uri": "https://localhost:8080/"
        }
      },
      "execution_count": 37,
      "outputs": [
        {
          "output_type": "stream",
          "name": "stdout",
          "text": [
            "1\n"
          ]
        }
      ]
    },
    {
      "cell_type": "code",
      "source": [],
      "metadata": {
        "id": "HNF7sH1CSIyQ"
      },
      "execution_count": null,
      "outputs": []
    },
    {
      "cell_type": "code",
      "source": [],
      "metadata": {
        "id": "DxjIsfeNSI2I"
      },
      "execution_count": null,
      "outputs": []
    },
    {
      "cell_type": "code",
      "source": [],
      "metadata": {
        "id": "d6d97ZNdSI4l"
      },
      "execution_count": null,
      "outputs": []
    },
    {
      "cell_type": "code",
      "source": [],
      "metadata": {
        "id": "zL_saLceSI7X"
      },
      "execution_count": null,
      "outputs": []
    }
  ],
  "metadata": {
    "colab": {
      "provenance": []
    },
    "kernelspec": {
      "display_name": "Python 3",
      "name": "python3"
    },
    "language_info": {
      "name": "python"
    }
  },
  "nbformat": 4,
  "nbformat_minor": 0
}