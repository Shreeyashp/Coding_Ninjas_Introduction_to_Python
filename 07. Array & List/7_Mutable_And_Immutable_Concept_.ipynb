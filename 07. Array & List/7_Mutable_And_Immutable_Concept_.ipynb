{
  "cells": [
    {
      "cell_type": "markdown",
      "source": [
        "IMMUTABLE"
      ],
      "metadata": {
        "id": "XRCzBLh6WFZy"
      }
    },
    {
      "cell_type": "code",
      "source": [
        "x =3\n",
        "a =3\n",
        "print(x)"
      ],
      "metadata": {
        "colab": {
          "base_uri": "https://localhost:8080/"
        },
        "id": "ImsLLOPdUaLa",
        "outputId": "4cc7cb5f-70e3-4fc9-fe23-46b104c1e399"
      },
      "execution_count": 38,
      "outputs": [
        {
          "output_type": "stream",
          "name": "stdout",
          "text": [
            "3\n"
          ]
        }
      ]
    },
    {
      "cell_type": "code",
      "source": [
        "id(x)"
      ],
      "metadata": {
        "colab": {
          "base_uri": "https://localhost:8080/"
        },
        "id": "iC3OnaOyUaN1",
        "outputId": "0533ccd9-216e-45f1-a642-15e1508aa830"
      },
      "execution_count": 39,
      "outputs": [
        {
          "output_type": "execute_result",
          "data": {
            "text/plain": [
              "11530976"
            ]
          },
          "metadata": {},
          "execution_count": 39
        }
      ]
    },
    {
      "cell_type": "code",
      "source": [
        "id(x)"
      ],
      "metadata": {
        "colab": {
          "base_uri": "https://localhost:8080/"
        },
        "id": "Z8M1J7QVUaP_",
        "outputId": "948dc82a-58e3-496a-89b9-bfc36270dfd1"
      },
      "execution_count": 40,
      "outputs": [
        {
          "output_type": "execute_result",
          "data": {
            "text/plain": [
              "11530976"
            ]
          },
          "metadata": {},
          "execution_count": 40
        }
      ]
    },
    {
      "cell_type": "code",
      "source": [
        "a =4\n",
        "id(a)"
      ],
      "metadata": {
        "colab": {
          "base_uri": "https://localhost:8080/"
        },
        "id": "9KLw-pwcUaR-",
        "outputId": "bb4160ed-5185-42ae-ce5e-a82e82b749a2"
      },
      "execution_count": 41,
      "outputs": [
        {
          "output_type": "execute_result",
          "data": {
            "text/plain": [
              "11531008"
            ]
          },
          "metadata": {},
          "execution_count": 41
        }
      ]
    },
    {
      "cell_type": "markdown",
      "source": [
        "MUTABLE"
      ],
      "metadata": {
        "id": "3ElSNVthWmDN"
      }
    },
    {
      "cell_type": "code",
      "source": [
        "li = [1,2,3,4,5]\n",
        "li2 = li\n",
        "li2[2] = 7\n",
        "li2"
      ],
      "metadata": {
        "colab": {
          "base_uri": "https://localhost:8080/"
        },
        "id": "ycNxh7j7UaVk",
        "outputId": "7b7d6309-8c4a-4624-f249-b4543f4905d4"
      },
      "execution_count": 42,
      "outputs": [
        {
          "output_type": "execute_result",
          "data": {
            "text/plain": [
              "[1, 2, 7, 4, 5]"
            ]
          },
          "metadata": {},
          "execution_count": 42
        }
      ]
    },
    {
      "cell_type": "code",
      "source": [
        "li = [1,2,3,4,5]\n",
        "li2 = li\n",
        "li2 = [6,7,8]\n",
        "li2[2] = 7\n",
        "li2"
      ],
      "metadata": {
        "id": "bO1lKb9sWno1",
        "outputId": "7e68fa59-b47b-4232-be6c-dc0b4cd4817d",
        "colab": {
          "base_uri": "https://localhost:8080/"
        }
      },
      "execution_count": 43,
      "outputs": [
        {
          "output_type": "execute_result",
          "data": {
            "text/plain": [
              "[6, 7, 7]"
            ]
          },
          "metadata": {},
          "execution_count": 43
        }
      ]
    },
    {
      "cell_type": "code",
      "source": [],
      "metadata": {
        "id": "6r8ejbwhWr2W"
      },
      "execution_count": null,
      "outputs": []
    }
  ],
  "metadata": {
    "colab": {
      "provenance": []
    },
    "kernelspec": {
      "display_name": "Python 3",
      "name": "python3"
    },
    "language_info": {
      "name": "python"
    }
  },
  "nbformat": 4,
  "nbformat_minor": 0
}