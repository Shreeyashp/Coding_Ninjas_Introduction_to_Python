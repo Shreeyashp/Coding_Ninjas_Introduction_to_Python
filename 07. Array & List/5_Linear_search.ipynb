{
  "cells": [
    {
      "cell_type": "code",
      "source": [
        "n = int(input())\n",
        "n"
      ],
      "metadata": {
        "colab": {
          "base_uri": "https://localhost:8080/"
        },
        "id": "_ABauh_EJDTi",
        "outputId": "2051e3b8-1a1a-4f53-f9fa-2430bdee637a"
      },
      "execution_count": 23,
      "outputs": [
        {
          "name": "stdout",
          "output_type": "stream",
          "text": [
            "6\n"
          ]
        },
        {
          "output_type": "execute_result",
          "data": {
            "text/plain": [
              "6"
            ]
          },
          "metadata": {},
          "execution_count": 23
        }
      ]
    },
    {
      "cell_type": "code",
      "source": [
        "li = [int(x) for x in input().split()]\n",
        "li"
      ],
      "metadata": {
        "colab": {
          "base_uri": "https://localhost:8080/"
        },
        "id": "KgUb431rMpmz",
        "outputId": "05bb34be-cc66-45d7-dd4e-2cbdf039c663"
      },
      "execution_count": 24,
      "outputs": [
        {
          "name": "stdout",
          "output_type": "stream",
          "text": [
            "2 1 3 4 5 7 \n"
          ]
        },
        {
          "output_type": "execute_result",
          "data": {
            "text/plain": [
              "[2, 1, 3, 4, 5, 7]"
            ]
          },
          "metadata": {},
          "execution_count": 24
        }
      ]
    },
    {
      "cell_type": "code",
      "source": [
        "ele = int(input())"
      ],
      "metadata": {
        "colab": {
          "base_uri": "https://localhost:8080/"
        },
        "id": "kbezLnVZOu45",
        "outputId": "1921a998-e055-49a8-b168-96ba51b7b9e0"
      },
      "execution_count": 27,
      "outputs": [
        {
          "name": "stdout",
          "output_type": "stream",
          "text": [
            "4\n"
          ]
        }
      ]
    },
    {
      "cell_type": "code",
      "source": [
        "ele = int(input())\n",
        "\n",
        "# to dfind value index\n",
        "idfound = False\n",
        "\n",
        "for i in range(len(li)):\n",
        "  if li[i] == ele: \n",
        "    print(i)\n",
        "    isfound = True\n",
        "    break\n",
        "\n",
        "if isfound is False:\n",
        "  print(-1)\n",
        "\n",
        "# value 4 is on index 3"
      ],
      "metadata": {
        "colab": {
          "base_uri": "https://localhost:8080/"
        },
        "id": "f6glKNhLP8Cz",
        "outputId": "dae802b2-5d94-4818-e924-92f152ece400"
      },
      "execution_count": 28,
      "outputs": [
        {
          "output_type": "stream",
          "name": "stdout",
          "text": [
            "4\n",
            "3\n"
          ]
        }
      ]
    },
    {
      "cell_type": "code",
      "source": [
        "ele = int(input())\n",
        "\n",
        "# to dfind value index\n",
        "idfound = False\n",
        "\n",
        "for i in range(len(li)):\n",
        "  if li[i] == ele: \n",
        "    print(i)\n",
        "    isfound = True\n",
        "    break\n",
        "\n",
        "if isfound is False:\n",
        "  print(-1)\n",
        "\n",
        "# value 4 is on index 3"
      ],
      "metadata": {
        "colab": {
          "base_uri": "https://localhost:8080/"
        },
        "id": "H1X4uxGVRAnT",
        "outputId": "f1adc594-3762-45c5-f312-db764d88fd51"
      },
      "execution_count": 29,
      "outputs": [
        {
          "name": "stdout",
          "output_type": "stream",
          "text": [
            "9\n"
          ]
        }
      ]
    }
  ],
  "metadata": {
    "colab": {
      "provenance": []
    },
    "kernelspec": {
      "display_name": "Python 3",
      "name": "python3"
    },
    "language_info": {
      "name": "python"
    }
  },
  "nbformat": 4,
  "nbformat_minor": 0
}