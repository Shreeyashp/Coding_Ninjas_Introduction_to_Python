{
  "cells": [
    {
      "cell_type": "markdown",
      "source": [
        "n-i+1\n",
        "\n",
        "4-1+1=4\n",
        "\n",
        "4-2+1=3\n",
        "\n",
        "4-3+1=2"
      ],
      "metadata": {
        "id": "gD4mmTJZmqXM"
      }
    },
    {
      "cell_type": "code",
      "source": [
        "n = int(input())\n",
        "\n",
        "i = 1\n",
        "while i<=n:\n",
        "  j =1\n",
        "  while j<=n-i+1:\n",
        "    print('@', end = '')\n",
        "    j = j+1\n",
        "  print()\n",
        "  i = i+1\n",
        "\n"
      ],
      "metadata": {
        "colab": {
          "base_uri": "https://localhost:8080/"
        },
        "id": "W0lwKW0tgtFl",
        "outputId": "ff46131f-97ec-4929-be23-b7ec0c46458b"
      },
      "execution_count": 12,
      "outputs": [
        {
          "output_type": "stream",
          "name": "stdout",
          "text": [
            "5\n",
            "@@@@@\n",
            "@@@@\n",
            "@@@\n",
            "@@\n",
            "@\n"
          ]
        }
      ]
    },
    {
      "cell_type": "code",
      "source": [
        "n = int(input())\n",
        "\n",
        "i = 1\n",
        "while i<=n:\n",
        "  j =1\n",
        "  while j<=n-i+1:\n",
        "    print(i%2, end = '')\n",
        "    j = j+1\n",
        "  print()\n",
        "  i = i+1\n",
        "\n"
      ],
      "metadata": {
        "colab": {
          "base_uri": "https://localhost:8080/"
        },
        "id": "qYXOJZRhgtCO",
        "outputId": "c8fe5c62-3a4d-414e-c1ac-9a3015422929"
      },
      "execution_count": 13,
      "outputs": [
        {
          "output_type": "stream",
          "name": "stdout",
          "text": [
            "4\n",
            "1111\n",
            "000\n",
            "11\n",
            "0\n"
          ]
        }
      ]
    },
    {
      "cell_type": "code",
      "source": [
        "n = int(input())\n",
        "\n",
        "i = 1\n",
        "\n",
        "while i <= n:\n",
        "    \n",
        "    char = chr(ord('A') + i - 1)\n",
        "    \n",
        "    j = 1\n",
        "    \n",
        "    while j <= i:\n",
        "        print(char, end=\"\")\n",
        "        j += 1       \n",
        "    print()\n",
        "    i +=1\n"
      ],
      "metadata": {
        "colab": {
          "base_uri": "https://localhost:8080/"
        },
        "id": "cyAnLlB5gs_u",
        "outputId": "8cd2955e-644f-4eb5-8d0a-03f67e655719"
      },
      "execution_count": 14,
      "outputs": [
        {
          "output_type": "stream",
          "name": "stdout",
          "text": [
            "4\n",
            "A\n",
            "BB\n",
            "CCC\n",
            "DDDD\n"
          ]
        }
      ]
    },
    {
      "cell_type": "code",
      "source": [
        "n=int(input())\n",
        "i=1\n",
        "while i<=n:\n",
        "    j=1\n",
        "    while j<=i:\n",
        "        if i==1:\n",
        "            print('1',end='')\n",
        "        elif j==1 or i==j:\n",
        "            print('1',end='')\n",
        "        else:\n",
        "            print('2',end='')\n",
        "        j=j+1\n",
        "    print()\n",
        "    i=i+1"
      ],
      "metadata": {
        "colab": {
          "base_uri": "https://localhost:8080/"
        },
        "id": "xNdLUW5UgsjN",
        "outputId": "352528b3-11e4-4abe-ca84-9606595cece9"
      },
      "execution_count": 15,
      "outputs": [
        {
          "output_type": "stream",
          "name": "stdout",
          "text": [
            "5\n",
            "1\n",
            "11\n",
            "121\n",
            "1221\n",
            "12221\n"
          ]
        }
      ]
    },
    {
      "cell_type": "code",
      "source": [
        "n = int(input())\n",
        "i = n\n",
        "while i >= 1:\n",
        "    j = i\n",
        "    while j<=n:\n",
        "        print(chr(ord(\"A\")+j-1),end=\"\")\n",
        "        j = j + 1\n",
        "    print()\n",
        "    i = i - 1"
      ],
      "metadata": {
        "colab": {
          "base_uri": "https://localhost:8080/"
        },
        "id": "tu4OR4o_qNaD",
        "outputId": "b6e187a5-2a2c-4379-d2d1-8202d7e85fcc"
      },
      "execution_count": 16,
      "outputs": [
        {
          "output_type": "stream",
          "name": "stdout",
          "text": [
            "5\n",
            "E\n",
            "DE\n",
            "CDE\n",
            "BCDE\n",
            "ABCDE\n"
          ]
        }
      ]
    },
    {
      "cell_type": "code",
      "source": [
        "n = int(input())\n",
        "i = 1\n",
        "while i<=n:\n",
        "    j = 1\n",
        "    p =1\n",
        "    while j <= n-i+1:\n",
        "        print(p,end='')   \n",
        "        j = j +1\n",
        "        p =p+1\n",
        "    print()    \n",
        "    i = i+1"
      ],
      "metadata": {
        "colab": {
          "base_uri": "https://localhost:8080/"
        },
        "id": "V9siBm6AqSQx",
        "outputId": "9644ea6b-65fa-4e3b-cf5b-f8ced708c41c"
      },
      "execution_count": 17,
      "outputs": [
        {
          "output_type": "stream",
          "name": "stdout",
          "text": [
            "5\n",
            "12345\n",
            "1234\n",
            "123\n",
            "12\n",
            "1\n"
          ]
        }
      ]
    },
    {
      "cell_type": "code",
      "source": [
        "n=int(input())\n",
        "s=1\n",
        "for i in range (1,n+1):\n",
        "    for j in range(s,s+n):\n",
        "        print(j ,end=\" \")\n",
        "    print()\n",
        "    if (i==((n+1)//2)):\n",
        "        if n%2!=0:\n",
        "            s=n*(n-2)+1\n",
        "        else:\n",
        "            s=n*(n-1)+1\n",
        "        continue\n",
        "    if (i>(n+1)//2):\n",
        "        s=s-2*n\n",
        "    else:\n",
        "        s=s+2*n"
      ],
      "metadata": {
        "colab": {
          "base_uri": "https://localhost:8080/"
        },
        "id": "rwoMsYFiqVRO",
        "outputId": "f9813239-2f00-4703-82c0-6371b34f7f34"
      },
      "execution_count": 19,
      "outputs": [
        {
          "output_type": "stream",
          "name": "stdout",
          "text": [
            "5\n",
            "1 2 3 4 5 \n",
            "11 12 13 14 15 \n",
            "21 22 23 24 25 \n",
            "16 17 18 19 20 \n",
            "6 7 8 9 10 \n"
          ]
        }
      ]
    },
    {
      "cell_type": "code",
      "source": [],
      "metadata": {
        "id": "5FO3FmOUqaKY"
      },
      "execution_count": null,
      "outputs": []
    }
  ],
  "metadata": {
    "colab": {
      "provenance": []
    },
    "kernelspec": {
      "display_name": "Python 3",
      "name": "python3"
    },
    "language_info": {
      "name": "python"
    }
  },
  "nbformat": 4,
  "nbformat_minor": 0
}