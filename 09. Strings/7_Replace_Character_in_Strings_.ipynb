{
  "cells": [
    {
      "cell_type": "code",
      "source": [
        "def replacestr(str, char1, char2):\n",
        " \n",
        "  newstr = \"\" # to make newstr variable so changed char1 to char2 can be stored there\n",
        "\n",
        "  for i in str:\n",
        "    \n",
        "    if (i == char1):  \n",
        "      newstr += char2  # if i matches with output then given char2 will replace it in newstr\n",
        "    \n",
        "    else:\n",
        "      newstr += i # if i doesnt matches with output then given same char1 will be added  newstr\n",
        "\n",
        "  return newstr"
      ],
      "metadata": {
        "id": "5rSkQnWrGnNt"
      },
      "execution_count": 33,
      "outputs": []
    },
    {
      "cell_type": "code",
      "source": [
        "str = 'a h k a k k l'"
      ],
      "metadata": {
        "id": "L9ABP5ByGnKU"
      },
      "execution_count": 36,
      "outputs": []
    },
    {
      "cell_type": "code",
      "source": [
        "replacestr(str, 'a', 'z')"
      ],
      "metadata": {
        "colab": {
          "base_uri": "https://localhost:8080/",
          "height": 35
        },
        "id": "3hMYTIkeGnH1",
        "outputId": "c66717c7-3179-4551-ba21-4ab90233ffc5"
      },
      "execution_count": 37,
      "outputs": [
        {
          "output_type": "execute_result",
          "data": {
            "text/plain": [
              "'z h k z k k l'"
            ],
            "application/vnd.google.colaboratory.intrinsic+json": {
              "type": "string"
            }
          },
          "metadata": {},
          "execution_count": 37
        }
      ]
    },
    {
      "cell_type": "code",
      "source": [],
      "metadata": {
        "id": "DexT-e8oGnCY"
      },
      "execution_count": null,
      "outputs": []
    },
    {
      "cell_type": "code",
      "source": [],
      "metadata": {
        "id": "74zxZuQAGm8Q"
      },
      "execution_count": null,
      "outputs": []
    },
    {
      "cell_type": "code",
      "source": [],
      "metadata": {
        "id": "QhaJ7dcNGm5u"
      },
      "execution_count": null,
      "outputs": []
    },
    {
      "cell_type": "code",
      "source": [],
      "metadata": {
        "id": "UQw3199DGm3M"
      },
      "execution_count": null,
      "outputs": []
    },
    {
      "cell_type": "code",
      "source": [],
      "metadata": {
        "id": "pBjcTtiLGm0u"
      },
      "execution_count": null,
      "outputs": []
    },
    {
      "cell_type": "code",
      "source": [],
      "metadata": {
        "id": "azeCgOdkGmyU"
      },
      "execution_count": null,
      "outputs": []
    }
  ],
  "metadata": {
    "colab": {
      "provenance": []
    },
    "kernelspec": {
      "display_name": "Python 3",
      "name": "python3"
    },
    "language_info": {
      "name": "python"
    }
  },
  "nbformat": 4,
  "nbformat_minor": 0
}