{
  "cells": [
    {
      "cell_type": "markdown",
      "source": [
        "To count numbers of vowels, digits, consonants, special characters in strings\n"
      ],
      "metadata": {
        "id": "NI8n6VRhJ4ZN"
      }
    },
    {
      "cell_type": "markdown",
      "source": [
        "\n",
        "\n",
        "\n",
        "---\n",
        "\n",
        "\n",
        "\n",
        "Consonants are letters that represent certain speech sounds, specifically sounds that involve blocking the air before it leaves the mouth, such as with the tongue, lips, or throat. Most letters of the English alphabet are consonants, except for a, e, i, o, and u, which are vowels."
      ],
      "metadata": {
        "id": "p4XAb7pGKiz4"
      }
    },
    {
      "cell_type": "code",
      "source": [
        "def countinstring(str):\n",
        "  v,c,d,s = 0,0,0,0\n",
        "\n",
        "  for i in str:\n",
        "\n",
        "    if (i >= 'a' and i <= 'z') or (i >='A' and i<='Z'): \n",
        "\n",
        "      i = i.lower()\n",
        "      if (i=='a' or i=='e' or i=='i' or i=='o' or i=='u'):\n",
        "        v += 1\n",
        "      else:\n",
        "        c +=1  \n",
        "\n",
        "    elif (i>='0' and i<='9'):\n",
        "      d += 1\n",
        "    \n",
        "    else:\n",
        "      s += 1\n",
        "  \n",
        "  return v,c,d,s"
      ],
      "metadata": {
        "id": "74zxZuQAGm8Q"
      },
      "execution_count": 39,
      "outputs": []
    },
    {
      "cell_type": "code",
      "source": [
        "str = 'jvgcfarechlponnioouaa325#$%^&32fga'"
      ],
      "metadata": {
        "id": "QhaJ7dcNGm5u"
      },
      "execution_count": 40,
      "outputs": []
    },
    {
      "cell_type": "code",
      "source": [
        "v,c,d,s=countinstring(str)\n",
        "print(v,c,d,s)       "
      ],
      "metadata": {
        "colab": {
          "base_uri": "https://localhost:8080/"
        },
        "id": "UQw3199DGm3M",
        "outputId": "8d9d54b7-4420-424d-9eb0-6fd5a8ba4a18"
      },
      "execution_count": 42,
      "outputs": [
        {
          "output_type": "stream",
          "name": "stdout",
          "text": [
            "10 14 5 5\n"
          ]
        }
      ]
    },
    {
      "cell_type": "code",
      "source": [],
      "metadata": {
        "id": "pBjcTtiLGm0u"
      },
      "execution_count": null,
      "outputs": []
    },
    {
      "cell_type": "code",
      "source": [],
      "metadata": {
        "id": "azeCgOdkGmyU"
      },
      "execution_count": null,
      "outputs": []
    }
  ],
  "metadata": {
    "colab": {
      "provenance": []
    },
    "kernelspec": {
      "display_name": "Python 3",
      "name": "python3"
    },
    "language_info": {
      "name": "python"
    }
  },
  "nbformat": 4,
  "nbformat_minor": 0
}