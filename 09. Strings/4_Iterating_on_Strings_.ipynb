{
  "cells": [
    {
      "cell_type": "code",
      "source": [
        "str = \"Hello World\""
      ],
      "metadata": {
        "id": "zVJb_6_PAolo"
      },
      "execution_count": 14,
      "outputs": []
    },
    {
      "cell_type": "code",
      "source": [
        "count = 0\n",
        "for letter in str:\n",
        "    if (letter == \"l\"):\n",
        "        count = count +1\n",
        "print(count)\n",
        "\n",
        "# how many times l appear in str"
      ],
      "metadata": {
        "colab": {
          "base_uri": "https://localhost:8080/"
        },
        "id": "gtAxNnFuAoiR",
        "outputId": "e92648ce-af32-4c3b-e600-57a5d9dbbf8d"
      },
      "execution_count": 11,
      "outputs": [
        {
          "output_type": "stream",
          "name": "stdout",
          "text": [
            "3\n"
          ]
        }
      ]
    },
    {
      "cell_type": "code",
      "source": [
        "count = 0\n",
        "for i in str:\n",
        "    if (i == \"W\"):\n",
        "        count = count + 1\n",
        "print(count)\n",
        "\n",
        "# how many times w appear in str"
      ],
      "metadata": {
        "colab": {
          "base_uri": "https://localhost:8080/"
        },
        "id": "OsUFq2wwAofH",
        "outputId": "68ca2fa2-c331-46ee-e7fa-ae48108fb4a0"
      },
      "execution_count": 15,
      "outputs": [
        {
          "output_type": "stream",
          "name": "stdout",
          "text": [
            "1\n"
          ]
        }
      ]
    },
    {
      "cell_type": "code",
      "source": [
        "# second way to check:\n",
        "\n",
        "count = 0\n",
        "for i in range(len(str)):\n",
        "    if (str[i] == \"l\"):\n",
        "        count = count + 1\n",
        "        \n",
        "print(count)"
      ],
      "metadata": {
        "colab": {
          "base_uri": "https://localhost:8080/"
        },
        "id": "jI6OFNHiAodJ",
        "outputId": "591c6568-5ab9-41ad-8fba-000f974188aa"
      },
      "execution_count": 16,
      "outputs": [
        {
          "output_type": "stream",
          "name": "stdout",
          "text": [
            "3\n"
          ]
        }
      ]
    },
    {
      "cell_type": "code",
      "source": [
        "a = \"hello\""
      ],
      "metadata": {
        "id": "tfKIPTGmAoaG"
      },
      "execution_count": 17,
      "outputs": []
    },
    {
      "cell_type": "code",
      "source": [
        "if 'hel' in a:\n",
        "  print('yes')\n",
        "else:\n",
        "  print('no')"
      ],
      "metadata": {
        "colab": {
          "base_uri": "https://localhost:8080/"
        },
        "id": "jIl6N3sbAoX4",
        "outputId": "ffc17de9-37f4-4852-e54d-b923dc5c09a4"
      },
      "execution_count": 18,
      "outputs": [
        {
          "output_type": "stream",
          "name": "stdout",
          "text": [
            "yes\n"
          ]
        }
      ]
    },
    {
      "cell_type": "code",
      "source": [
        "if 'hl' in a:\n",
        "  print('yes')\n",
        "else:\n",
        "  print('no')"
      ],
      "metadata": {
        "colab": {
          "base_uri": "https://localhost:8080/"
        },
        "id": "7DJQ3XbbDdEm",
        "outputId": "98f727fe-54d1-44b5-f4ae-1aaec122dec4"
      },
      "execution_count": 19,
      "outputs": [
        {
          "output_type": "stream",
          "name": "stdout",
          "text": [
            "no\n"
          ]
        }
      ]
    },
    {
      "cell_type": "code",
      "source": [],
      "metadata": {
        "id": "d8oBaAKXDgsW"
      },
      "execution_count": null,
      "outputs": []
    }
  ],
  "metadata": {
    "colab": {
      "provenance": []
    },
    "kernelspec": {
      "display_name": "Python 3",
      "name": "python3"
    },
    "language_info": {
      "name": "python"
    }
  },
  "nbformat": 4,
  "nbformat_minor": 0
}