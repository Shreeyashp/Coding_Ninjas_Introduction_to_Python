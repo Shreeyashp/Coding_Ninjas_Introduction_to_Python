{
  "cells": [
    {
      "cell_type": "markdown",
      "source": [
        "Split"
      ],
      "metadata": {
        "id": "uDXm3O7CDYCs"
      }
    },
    {
      "cell_type": "code",
      "source": [
        "str = \"My Name Is shree\"\n",
        "li = str.split() # it will spilt on basis of space\n",
        "print(li)"
      ],
      "metadata": {
        "colab": {
          "base_uri": "https://localhost:8080/"
        },
        "id": "6npHPx2TEC4M",
        "outputId": "410d986b-6024-4a95-cdba-7925cb2eab5f"
      },
      "execution_count": 2,
      "outputs": [
        {
          "output_type": "stream",
          "name": "stdout",
          "text": [
            "['My', 'Name', 'Is', 'shree']\n"
          ]
        }
      ]
    },
    {
      "cell_type": "code",
      "source": [
        "str = \"My,Name,Is,shree\"\n",
        "li = str.split()\n",
        "print(li)"
      ],
      "metadata": {
        "colab": {
          "base_uri": "https://localhost:8080/"
        },
        "id": "d8oBaAKXDgsW",
        "outputId": "a2b448e7-72ba-4ec9-9ae1-d4aaa4eb98ad"
      },
      "execution_count": 3,
      "outputs": [
        {
          "output_type": "stream",
          "name": "stdout",
          "text": [
            "['My,Name,Is,shree']\n"
          ]
        }
      ]
    },
    {
      "cell_type": "code",
      "source": [
        "str = \"My,Name,Is,shree\"\n",
        "li = str.split(',')\n",
        "print(li)"
      ],
      "metadata": {
        "colab": {
          "base_uri": "https://localhost:8080/"
        },
        "id": "NbV_1XStD3EC",
        "outputId": "822b7870-bd18-4334-f230-365c5900a9b1"
      },
      "execution_count": 4,
      "outputs": [
        {
          "output_type": "stream",
          "name": "stdout",
          "text": [
            "['My', 'Name', 'Is', 'shree']\n"
          ]
        }
      ]
    },
    {
      "cell_type": "code",
      "source": [
        "str = \"My Name Is shree\"\n",
        "li = str.split(' ',1)\n",
        "print(li)"
      ],
      "metadata": {
        "colab": {
          "base_uri": "https://localhost:8080/"
        },
        "id": "NVtmxRpZD6am",
        "outputId": "59f812ff-0386-4c5d-ecbb-6cd87422b79c"
      },
      "execution_count": 5,
      "outputs": [
        {
          "output_type": "stream",
          "name": "stdout",
          "text": [
            "['My', 'Name Is shree']\n"
          ]
        }
      ]
    },
    {
      "cell_type": "code",
      "source": [
        "str = \"My Name Is shree\"\n",
        "li = str.split(' ',2)\n",
        "print(li)"
      ],
      "metadata": {
        "colab": {
          "base_uri": "https://localhost:8080/"
        },
        "id": "ZXHRSxozEBKI",
        "outputId": "73397d8b-2602-4091-be00-7a67d6aa8717"
      },
      "execution_count": 7,
      "outputs": [
        {
          "output_type": "stream",
          "name": "stdout",
          "text": [
            "['My', 'Name', 'Is shree']\n"
          ]
        }
      ]
    },
    {
      "cell_type": "markdown",
      "source": [
        "Replace"
      ],
      "metadata": {
        "id": "a76unGb-EPJf"
      }
    },
    {
      "cell_type": "code",
      "source": [
        "str = \"my name is shree\"\n",
        "str = str.replace(\"shree\",\"yash\")\n",
        "print(str)"
      ],
      "metadata": {
        "colab": {
          "base_uri": "https://localhost:8080/"
        },
        "id": "SlPmnmVQEFDA",
        "outputId": "64f924a5-6d77-4ffb-df47-c602c569e53b"
      },
      "execution_count": 8,
      "outputs": [
        {
          "output_type": "stream",
          "name": "stdout",
          "text": [
            "my name is yash\n"
          ]
        }
      ]
    },
    {
      "cell_type": "code",
      "source": [
        "str = \"my name is shree shree yash\"\n",
        "str = str.replace(\"shree\",\"shri\")\n",
        "print(str)"
      ],
      "metadata": {
        "colab": {
          "base_uri": "https://localhost:8080/"
        },
        "id": "M0S17TwZEWaC",
        "outputId": "f27d9063-13e0-4578-d18f-945800ca9501"
      },
      "execution_count": 9,
      "outputs": [
        {
          "output_type": "stream",
          "name": "stdout",
          "text": [
            "my name is shri shri yash\n"
          ]
        }
      ]
    },
    {
      "cell_type": "code",
      "source": [
        "str = \"my name is shree yash shree yash shree\"\n",
        "str = str.replace(\"shree\",\"shri\",2)\n",
        "print(str)"
      ],
      "metadata": {
        "colab": {
          "base_uri": "https://localhost:8080/"
        },
        "id": "Cx62LA0GEmO7",
        "outputId": "139a8e0c-35c8-4efe-bca5-d487a3fd12a9"
      },
      "execution_count": 11,
      "outputs": [
        {
          "output_type": "stream",
          "name": "stdout",
          "text": [
            "my name is shri yash shri yash shree\n"
          ]
        }
      ]
    },
    {
      "cell_type": "markdown",
      "source": [
        "FIND"
      ],
      "metadata": {
        "id": "cIerp1MNEzy6"
      }
    },
    {
      "cell_type": "code",
      "source": [
        "str = 'My Name is shree'\n",
        "index = str.find(\"Na\")\n",
        "print(index)"
      ],
      "metadata": {
        "colab": {
          "base_uri": "https://localhost:8080/"
        },
        "id": "FQFyDXtUEvL_",
        "outputId": "ce0b8c9b-79d7-47e6-c346-ab8415bb2e1d"
      },
      "execution_count": 12,
      "outputs": [
        {
          "output_type": "stream",
          "name": "stdout",
          "text": [
            "3\n"
          ]
        }
      ]
    },
    {
      "cell_type": "code",
      "source": [
        "str = 'My Name is shree'\n",
        "index = str.find(\"sh\")\n",
        "print(index)"
      ],
      "metadata": {
        "colab": {
          "base_uri": "https://localhost:8080/"
        },
        "id": "31THUHcIE_rG",
        "outputId": "01db54b4-35e1-4d64-fc0e-88fabe32e843"
      },
      "execution_count": 13,
      "outputs": [
        {
          "output_type": "stream",
          "name": "stdout",
          "text": [
            "11\n"
          ]
        }
      ]
    },
    {
      "cell_type": "code",
      "source": [
        "str = 'My Name is shree'\n",
        "index = str.find(\"oo\")\n",
        "print(index)"
      ],
      "metadata": {
        "colab": {
          "base_uri": "https://localhost:8080/"
        },
        "id": "UXwdQlEdE_np",
        "outputId": "bc874a51-18e9-4d76-ca0b-8a2a14346057"
      },
      "execution_count": 15,
      "outputs": [
        {
          "output_type": "stream",
          "name": "stdout",
          "text": [
            "-1\n"
          ]
        }
      ]
    },
    {
      "cell_type": "markdown",
      "source": [
        "Lower and Upper"
      ],
      "metadata": {
        "id": "j37xUK_RFaaj"
      }
    },
    {
      "cell_type": "code",
      "source": [
        "str = 'My name is SHrEe'\n",
        "str = str.lower()\n",
        "print(str)"
      ],
      "metadata": {
        "colab": {
          "base_uri": "https://localhost:8080/"
        },
        "id": "gbaDoCbbE_kX",
        "outputId": "bd1be750-f12b-4771-df83-d79e59446294"
      },
      "execution_count": 16,
      "outputs": [
        {
          "output_type": "stream",
          "name": "stdout",
          "text": [
            "my name is shree\n"
          ]
        }
      ]
    },
    {
      "cell_type": "code",
      "source": [
        "str = 'My name is SHrEe'\n",
        "str = str.upper()\n",
        "print(str)"
      ],
      "metadata": {
        "colab": {
          "base_uri": "https://localhost:8080/"
        },
        "id": "WFIAziWRFfPW",
        "outputId": "8e8f8130-faff-4c1d-8a9e-a0f2126cdd3b"
      },
      "execution_count": 17,
      "outputs": [
        {
          "output_type": "stream",
          "name": "stdout",
          "text": [
            "MY NAME IS SHREE\n"
          ]
        }
      ]
    },
    {
      "cell_type": "markdown",
      "source": [
        "Startswith"
      ],
      "metadata": {
        "id": "gJbLzt8yFlxD"
      }
    },
    {
      "cell_type": "code",
      "source": [
        "str = 'my name is shree'\n",
        "ans = str.startswith(\"my na\")\n",
        "print(ans)\n"
      ],
      "metadata": {
        "colab": {
          "base_uri": "https://localhost:8080/"
        },
        "id": "lBQTtqVTFiqx",
        "outputId": "4e9d37c0-2348-4271-9ce5-1914348b0ac4"
      },
      "execution_count": 19,
      "outputs": [
        {
          "output_type": "stream",
          "name": "stdout",
          "text": [
            "True\n"
          ]
        }
      ]
    },
    {
      "cell_type": "code",
      "source": [
        "str = 'my name is shree'\n",
        "ans = str.startswith(\"my nae\")\n",
        "print(ans)"
      ],
      "metadata": {
        "colab": {
          "base_uri": "https://localhost:8080/"
        },
        "id": "BUdlDNJLFsKY",
        "outputId": "e5a243e0-731b-44bc-ebb9-52fd6c938952"
      },
      "execution_count": 20,
      "outputs": [
        {
          "output_type": "stream",
          "name": "stdout",
          "text": [
            "False\n"
          ]
        }
      ]
    },
    {
      "cell_type": "code",
      "source": [
        "str = 'my name is shree'\n",
        "ans = str.startswith(\"qmy nae\")\n",
        "print(ans)"
      ],
      "metadata": {
        "colab": {
          "base_uri": "https://localhost:8080/"
        },
        "id": "vGxfa7XvFy_E",
        "outputId": "0ec4f7f5-9b14-4c1e-d150-c7775ba9dcd5"
      },
      "execution_count": 21,
      "outputs": [
        {
          "output_type": "stream",
          "name": "stdout",
          "text": [
            "False\n"
          ]
        }
      ]
    },
    {
      "cell_type": "code",
      "source": [
        "str = 'my name is shree'\n",
        "ans = str.startswith(\"shree\")\n",
        "print(ans)"
      ],
      "metadata": {
        "colab": {
          "base_uri": "https://localhost:8080/"
        },
        "id": "zzst_2QiFy7r",
        "outputId": "7042f779-bcad-4f21-88c8-50169b087105"
      },
      "execution_count": 22,
      "outputs": [
        {
          "output_type": "stream",
          "name": "stdout",
          "text": [
            "False\n"
          ]
        }
      ]
    },
    {
      "cell_type": "code",
      "source": [
        "str = 'my name is shree'\n",
        "ans = str.startswith(\"sh\",11,18)\n",
        "print(ans)"
      ],
      "metadata": {
        "colab": {
          "base_uri": "https://localhost:8080/"
        },
        "id": "InehikBLFy5H",
        "outputId": "993ea766-c963-4b0e-9dac-c2daac7efacc"
      },
      "execution_count": 23,
      "outputs": [
        {
          "output_type": "stream",
          "name": "stdout",
          "text": [
            "True\n"
          ]
        }
      ]
    },
    {
      "cell_type": "code",
      "source": [
        "str = 'my name is shree'\n",
        "ans = str.endswith(\"shree\")\n",
        "print(ans)"
      ],
      "metadata": {
        "colab": {
          "base_uri": "https://localhost:8080/"
        },
        "id": "c_y6p2DXFy1S",
        "outputId": "6d9a82de-f1fa-4aa9-f0d6-7d003c579d65"
      },
      "execution_count": 24,
      "outputs": [
        {
          "output_type": "stream",
          "name": "stdout",
          "text": [
            "True\n"
          ]
        }
      ]
    },
    {
      "cell_type": "code",
      "source": [
        "str = 'my name is shree'\n",
        "ans = str.endswith(\"my\")\n",
        "print(ans)"
      ],
      "metadata": {
        "colab": {
          "base_uri": "https://localhost:8080/"
        },
        "id": "4hTIERg6Fyy1",
        "outputId": "bd1e65d4-7f00-496d-b5e4-7b49f13d527d"
      },
      "execution_count": 25,
      "outputs": [
        {
          "output_type": "stream",
          "name": "stdout",
          "text": [
            "False\n"
          ]
        }
      ]
    },
    {
      "cell_type": "code",
      "source": [
        "str = 'my name is shree'\n",
        "ans = str.endswith(\"i shree\")\n",
        "print(ans)"
      ],
      "metadata": {
        "colab": {
          "base_uri": "https://localhost:8080/"
        },
        "id": "4bxajQ1TGHfV",
        "outputId": "5e06bda0-ef4e-42a5-93d1-019d24313fd9"
      },
      "execution_count": 26,
      "outputs": [
        {
          "output_type": "stream",
          "name": "stdout",
          "text": [
            "False\n"
          ]
        }
      ]
    },
    {
      "cell_type": "code",
      "source": [
        "str = 'my name is shree'\n",
        "ans = str.endswith(\"is shree\")\n",
        "print(ans)"
      ],
      "metadata": {
        "colab": {
          "base_uri": "https://localhost:8080/"
        },
        "id": "m9CoxiSjGNl9",
        "outputId": "36edced3-43f0-452e-daf3-a3454f741929"
      },
      "execution_count": 27,
      "outputs": [
        {
          "output_type": "stream",
          "name": "stdout",
          "text": [
            "True\n"
          ]
        }
      ]
    },
    {
      "cell_type": "code",
      "source": [],
      "metadata": {
        "id": "QbNCkBOmGQCl"
      },
      "execution_count": null,
      "outputs": []
    }
  ],
  "metadata": {
    "colab": {
      "provenance": []
    },
    "kernelspec": {
      "display_name": "Python 3",
      "name": "python3"
    },
    "language_info": {
      "name": "python"
    }
  },
  "nbformat": 4,
  "nbformat_minor": 0
}