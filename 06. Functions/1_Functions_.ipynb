{
  "cells": [
    {
      "cell_type": "code",
      "source": [
        "n = int(input())\n",
        "r = int(input())\n",
        "\n",
        "n_fact = 1\n",
        "for i in range(1, n+1):     # n+1 to go till n\n",
        "  n_fact = n_fact * i    # n_fact * i first it will mul with 1 , then 2 , then 3\n",
        "\n",
        "r_fact = 1\n",
        "for i in range(1, r+1):     # n+1 to go till n\n",
        "  r_fact = r_fact * i\n",
        "\n",
        "n_r_fact = 1\n",
        "for i in range(1, n-r+1):     \n",
        "  n_r_fact = n_r_fact * i\n",
        "\n",
        "ans = n_fact//(r_fact*n_r_fact)\n",
        "print(ans)"
      ],
      "metadata": {
        "colab": {
          "base_uri": "https://localhost:8080/"
        },
        "id": "pDOx_ItkDICl",
        "outputId": "8bae9a2e-6e51-46fe-9d7b-482f9e7c307e"
      },
      "execution_count": 13,
      "outputs": [
        {
          "output_type": "stream",
          "name": "stdout",
          "text": [
            "4\n",
            "5\n",
            "0\n"
          ]
        }
      ]
    },
    {
      "cell_type": "markdown",
      "source": [
        "def is the word through we write function.\n",
        "\n",
        "fact = is function name here\n",
        "\n",
        "(a) = how muchh i/p I should except\n"
      ],
      "metadata": {
        "id": "GnqH0wlAE0Ra"
      }
    },
    {
      "cell_type": "code",
      "source": [
        "def fact(a):\n",
        "    a_fact = 1\n",
        "    for i in range(1,a+1):\n",
        "        a_fact=a_fact*i\n",
        "    return a_fact"
      ],
      "metadata": {
        "id": "e-wmB4yhDH_M"
      },
      "execution_count": 14,
      "outputs": []
    },
    {
      "cell_type": "code",
      "source": [
        "fact(3)"
      ],
      "metadata": {
        "colab": {
          "base_uri": "https://localhost:8080/"
        },
        "id": "PpyAQVfUDH8z",
        "outputId": "07c51f80-9a69-462e-f9cf-f92e5612df07"
      },
      "execution_count": 15,
      "outputs": [
        {
          "output_type": "execute_result",
          "data": {
            "text/plain": [
              "6"
            ]
          },
          "metadata": {},
          "execution_count": 15
        }
      ]
    },
    {
      "cell_type": "code",
      "source": [
        "fact(4)"
      ],
      "metadata": {
        "colab": {
          "base_uri": "https://localhost:8080/"
        },
        "id": "XgYcT4HoDH6Z",
        "outputId": "7fbab767-e29f-4144-cb21-284080009ce7"
      },
      "execution_count": 16,
      "outputs": [
        {
          "output_type": "execute_result",
          "data": {
            "text/plain": [
              "24"
            ]
          },
          "metadata": {},
          "execution_count": 16
        }
      ]
    },
    {
      "cell_type": "code",
      "source": [
        "n = int(input())\n",
        "r = int(input())\n",
        "\n",
        "n_fact= fact(n)\n",
        "r_fact= fact(r)\n",
        "n_r_fact= fact(n-r)\n",
        "\n",
        "ans = n_fact//(r_fact*n_r_fact)\n",
        "print(ans)"
      ],
      "metadata": {
        "colab": {
          "base_uri": "https://localhost:8080/"
        },
        "id": "fueHllRMQZua",
        "outputId": "24fb490a-2727-403b-8867-ded06b2e7709"
      },
      "execution_count": 17,
      "outputs": [
        {
          "output_type": "stream",
          "name": "stdout",
          "text": [
            "4\n",
            "3\n",
            "4\n"
          ]
        }
      ]
    },
    {
      "cell_type": "code",
      "source": [
        "def isprime(n):\n",
        "  for i in range(2, n+1): # go from 2 till n (n+1 reach till n)\n",
        "    if (i%2==0):\n",
        "      break\n",
        "  else:\n",
        "    return True # if its prime then true, then dont dont go for false\n",
        "  return False #  if its not prime then false and restart the next process from start"
      ],
      "metadata": {
        "id": "U3Ktg6q0Q_j0"
      },
      "execution_count": 18,
      "outputs": []
    },
    {
      "cell_type": "code",
      "source": [
        "isprime(4)"
      ],
      "metadata": {
        "colab": {
          "base_uri": "https://localhost:8080/"
        },
        "id": "1k3YbYyvXVJ8",
        "outputId": "e8ae1a2b-4dfe-400a-efc3-5c0fc0e66235"
      },
      "execution_count": 19,
      "outputs": [
        {
          "output_type": "execute_result",
          "data": {
            "text/plain": [
              "False"
            ]
          },
          "metadata": {},
          "execution_count": 19
        }
      ]
    },
    {
      "cell_type": "code",
      "source": [
        "def primefrom2ton(n):\n",
        "    for k in range(2,n+1):\n",
        "        is_k_prime=isprime(k)\n",
        "        if (is_k_prime):\n",
        "            print(k)\n"
      ],
      "metadata": {
        "id": "9jQOESrwXWCm"
      },
      "execution_count": 20,
      "outputs": []
    },
    {
      "cell_type": "code",
      "source": [
        "primefrom2ton(10)"
      ],
      "metadata": {
        "id": "TDB3Wy2SXnqE"
      },
      "execution_count": 21,
      "outputs": []
    },
    {
      "cell_type": "code",
      "source": [
        "def ncr(n,r):\n",
        "    n_fact = fact(n)\n",
        "    r_fact = fact(r)\n",
        "    n_r_fact = fact(n-r)\n",
        "    ans = n_fact//(r_fact*n_r_fact)\n",
        "    return ans"
      ],
      "metadata": {
        "id": "8S43FMdxXq2Q"
      },
      "execution_count": 22,
      "outputs": []
    },
    {
      "cell_type": "code",
      "source": [
        "ncr(5,2)"
      ],
      "metadata": {
        "colab": {
          "base_uri": "https://localhost:8080/"
        },
        "id": "3yqQt_vtY0QH",
        "outputId": "5c308062-9b33-4b39-b80a-d55fbf1e9fd9"
      },
      "execution_count": 23,
      "outputs": [
        {
          "output_type": "execute_result",
          "data": {
            "text/plain": [
              "10"
            ]
          },
          "metadata": {},
          "execution_count": 23
        }
      ]
    },
    {
      "cell_type": "code",
      "source": [
        "def function(a,b,c=1,d=5):\n",
        "    return a+b+c+d\n",
        "value = function(1,2,d=7)\n",
        "print(value)"
      ],
      "metadata": {
        "colab": {
          "base_uri": "https://localhost:8080/"
        },
        "id": "iHdEiBbcZG3Q",
        "outputId": "325a138d-4fb3-493c-ea43-209e9b20bf65"
      },
      "execution_count": 24,
      "outputs": [
        {
          "output_type": "stream",
          "name": "stdout",
          "text": [
            "11\n"
          ]
        }
      ]
    },
    {
      "cell_type": "code",
      "source": [
        "def function(a,b,c=1,d=5):\n",
        "    return a+b+c+d\n",
        "\n",
        "    \n",
        "value = function(1,2)\n",
        "print(value)"
      ],
      "metadata": {
        "colab": {
          "base_uri": "https://localhost:8080/"
        },
        "id": "hYsxD4seZkt7",
        "outputId": "58f83d44-f7f6-45e0-c33e-0e5b0d3055b6"
      },
      "execution_count": 25,
      "outputs": [
        {
          "output_type": "stream",
          "name": "stdout",
          "text": [
            "9\n"
          ]
        }
      ]
    },
    {
      "cell_type": "code",
      "source": [
        "# take input from the user\n",
        "num = int(input(\"Enter a number: \"))\n",
        "\n",
        "# initialize sum\n",
        "sum = 0\n",
        "\n",
        "# find the sum of the cube of each digit\n",
        "temp = num\n",
        "while temp > 0:\n",
        "   digit = temp % 10\n",
        "   sum += digit ** 3\n",
        "   temp //= 10\n",
        "\n",
        "# display the result\n",
        "if num == sum:\n",
        "   print(\"True\")\n",
        "else:\n",
        "   print(\"False\")"
      ],
      "metadata": {
        "colab": {
          "base_uri": "https://localhost:8080/"
        },
        "id": "BdEK59SEZn_r",
        "outputId": "702ccfee-15b1-4b89-aa1d-73ccaea2f86f"
      },
      "execution_count": 26,
      "outputs": [
        {
          "output_type": "stream",
          "name": "stdout",
          "text": [
            "Enter a number: 2\n",
            "False\n"
          ]
        }
      ]
    },
    {
      "cell_type": "code",
      "source": [
        "num = int(input())\n",
        "\n",
        "\n",
        "sum = 0\n",
        "\n",
        "\n",
        "temp = num\n",
        "while temp > 0:\n",
        "   digit = temp % 10\n",
        "   sum += digit ** 3\n",
        "   temp //= 10\n",
        "\n",
        "\n",
        "if num == sum:\n",
        "   print(\"true\")\n",
        "else:\n",
        "   print(\"false\")"
      ],
      "metadata": {
        "colab": {
          "base_uri": "https://localhost:8080/"
        },
        "id": "FJzaI0uHZs9a",
        "outputId": "0b413916-5866-4a0b-c904-67974b19267f"
      },
      "execution_count": 27,
      "outputs": [
        {
          "output_type": "stream",
          "name": "stdout",
          "text": [
            "3\n",
            "false\n"
          ]
        }
      ]
    },
    {
      "cell_type": "code",
      "source": [],
      "metadata": {
        "id": "za_f8YIkZwCe"
      },
      "execution_count": null,
      "outputs": []
    }
  ],
  "metadata": {
    "colab": {
      "provenance": []
    },
    "kernelspec": {
      "display_name": "Python 3",
      "name": "python3"
    },
    "language_info": {
      "name": "python"
    }
  },
  "nbformat": 4,
  "nbformat_minor": 0
}