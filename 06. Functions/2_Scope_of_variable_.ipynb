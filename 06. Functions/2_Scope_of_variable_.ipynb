{
  "cells": [
    {
      "cell_type": "markdown",
      "source": [
        "Local variables are created when the function starts its execution and are lost when the function ends. Global variables, on the other hand, are created as the execution of the program begins and are lost when the program is ended. In contrast to global variables, local variables do not offer data sharing"
      ],
      "metadata": {
        "id": "Nm4SYF7QgiUu"
      }
    },
    {
      "cell_type": "code",
      "source": [
        "a1 = 10 #Global Variable\n",
        "\n",
        "def f():\n",
        "    b1 = 12 # local Variable\n",
        "\n",
        "print(a1)    "
      ],
      "metadata": {
        "colab": {
          "base_uri": "https://localhost:8080/"
        },
        "id": "Z6wWNneXepw4",
        "outputId": "e94181aa-09f6-4a3e-b9b0-93718268d8bd"
      },
      "execution_count": 28,
      "outputs": [
        {
          "output_type": "stream",
          "name": "stdout",
          "text": [
            "10\n"
          ]
        }
      ]
    },
    {
      "cell_type": "code",
      "source": [
        "a1 = 10 #Global Variable\n",
        "\n",
        "def f():\n",
        "    b1 = 12 # local Variable\n",
        "\n",
        "print(b1)  "
      ],
      "metadata": {
        "colab": {
          "base_uri": "https://localhost:8080/",
          "height": 201
        },
        "id": "JItDE6_7eptl",
        "outputId": "a051eb01-2f2c-4945-f953-d94b4457c145"
      },
      "execution_count": 29,
      "outputs": [
        {
          "output_type": "error",
          "ename": "NameError",
          "evalue": "ignored",
          "traceback": [
            "\u001b[0;31m---------------------------------------------------------------------------\u001b[0m",
            "\u001b[0;31mNameError\u001b[0m                                 Traceback (most recent call last)",
            "\u001b[0;32m<ipython-input-29-681d807e296d>\u001b[0m in \u001b[0;36m<module>\u001b[0;34m\u001b[0m\n\u001b[1;32m      4\u001b[0m     \u001b[0mb1\u001b[0m \u001b[0;34m=\u001b[0m \u001b[0;36m12\u001b[0m \u001b[0;31m# local Variable\u001b[0m\u001b[0;34m\u001b[0m\u001b[0;34m\u001b[0m\u001b[0m\n\u001b[1;32m      5\u001b[0m \u001b[0;34m\u001b[0m\u001b[0m\n\u001b[0;32m----> 6\u001b[0;31m \u001b[0mprint\u001b[0m\u001b[0;34m(\u001b[0m\u001b[0mb1\u001b[0m\u001b[0;34m)\u001b[0m\u001b[0;34m\u001b[0m\u001b[0;34m\u001b[0m\u001b[0m\n\u001b[0m",
            "\u001b[0;31mNameError\u001b[0m: name 'b1' is not defined"
          ]
        }
      ]
    },
    {
      "cell_type": "code",
      "source": [
        "a1 = 10 #Global Variable\n",
        "\n",
        "def f():\n",
        "    b1 = 12 # local Variable\n",
        "    print(b1)  \n",
        "f()"
      ],
      "metadata": {
        "colab": {
          "base_uri": "https://localhost:8080/"
        },
        "id": "blDT1CVjeppM",
        "outputId": "bc0e5631-297f-4750-d418-783db16c5268"
      },
      "execution_count": 35,
      "outputs": [
        {
          "output_type": "stream",
          "name": "stdout",
          "text": [
            "12\n"
          ]
        }
      ]
    },
    {
      "cell_type": "code",
      "source": [
        "# can print Global in function\n",
        "a2 =10 #G\n",
        "\n",
        "def f2():\n",
        "    b2 = 12 #L\n",
        "    print(b2)\n",
        "    print(a2) #3RD CALLED\n",
        "\n",
        "print(a2)   # 1st called \n",
        "f2() #2nd called"
      ],
      "metadata": {
        "colab": {
          "base_uri": "https://localhost:8080/"
        },
        "id": "EqNKFchkepmu",
        "outputId": "2253f36c-5c4b-4df7-b5ec-0e43720a2402"
      },
      "execution_count": 36,
      "outputs": [
        {
          "output_type": "stream",
          "name": "stdout",
          "text": [
            "10\n",
            "12\n",
            "10\n"
          ]
        }
      ]
    },
    {
      "cell_type": "code",
      "source": [
        "a4 = 13\n",
        "def f4():\n",
        "    a4 = 12\n",
        "    print(a4)\n",
        "  \n",
        "print(a4) # 13 outside the local so global\n",
        "f4() # function f4 so 12\n",
        "print(a4)\n"
      ],
      "metadata": {
        "colab": {
          "base_uri": "https://localhost:8080/"
        },
        "id": "mav0Pl6uhYji",
        "outputId": "2e4be971-f8ce-4878-f6ba-cf22bf556141"
      },
      "execution_count": 38,
      "outputs": [
        {
          "output_type": "stream",
          "name": "stdout",
          "text": [
            "13\n",
            "12\n",
            "13\n"
          ]
        }
      ]
    },
    {
      "cell_type": "code",
      "source": [
        "a4 = 13\n",
        "def f4():\n",
        "    a4 = 12\n",
        "    print(a4)\n",
        "    print(id(a4))\n",
        "\n",
        "  \n",
        "print(a4) # 13 outside the local so global\n",
        "f4() # function f4 so 12\n",
        "print(a4)\n",
        "print(id(a4))\n"
      ],
      "metadata": {
        "colab": {
          "base_uri": "https://localhost:8080/"
        },
        "id": "Kdoa4z0mitJx",
        "outputId": "5dcab1ca-5a26-4971-8a17-8bc795a23b6d"
      },
      "execution_count": 39,
      "outputs": [
        {
          "output_type": "stream",
          "name": "stdout",
          "text": [
            "13\n",
            "12\n",
            "11531264\n",
            "13\n",
            "11531296\n"
          ]
        }
      ]
    },
    {
      "cell_type": "code",
      "source": [
        "#python ios confused what to print\n",
        "def f4():\n",
        "    b4 =12\n",
        "    print(b4)\n",
        "    print(a4)\n",
        "\n",
        "f4()    \n",
        "a4 = 10\n",
        "print(a4)"
      ],
      "metadata": {
        "colab": {
          "base_uri": "https://localhost:8080/"
        },
        "id": "BZz06K30jHJ9",
        "outputId": "ffafa7c8-cd43-4e00-96ff-708fdd246e5b"
      },
      "execution_count": 40,
      "outputs": [
        {
          "output_type": "stream",
          "name": "stdout",
          "text": [
            "12\n",
            "13\n",
            "10\n"
          ]
        }
      ]
    },
    {
      "cell_type": "code",
      "source": [
        "# Adding global \n",
        "a6 = 13\n",
        "def f6():\n",
        "    global a6\n",
        "    a6 = 12\n",
        "    print(a6)\n",
        "    \n",
        "print(a6)\n",
        "f6()\n",
        "print(a6)"
      ],
      "metadata": {
        "colab": {
          "base_uri": "https://localhost:8080/"
        },
        "id": "ONASl9MNjcRo",
        "outputId": "22c4e3c4-0b26-4b44-87bc-d0f4398cb537"
      },
      "execution_count": 42,
      "outputs": [
        {
          "output_type": "stream",
          "name": "stdout",
          "text": [
            "13\n",
            "12\n",
            "12\n"
          ]
        }
      ]
    },
    {
      "cell_type": "code",
      "source": [
        "def f():\n",
        "    b = 10\n",
        "    return b\n",
        "\n",
        "x = f()\n",
        "print(x)"
      ],
      "metadata": {
        "id": "8P7YkUPsj7ZQ",
        "outputId": "2da1d1c3-d98d-45cd-acd8-1f013ec086ce",
        "colab": {
          "base_uri": "https://localhost:8080/"
        }
      },
      "execution_count": 43,
      "outputs": [
        {
          "output_type": "stream",
          "name": "stdout",
          "text": [
            "10\n"
          ]
        }
      ]
    },
    {
      "cell_type": "code",
      "source": [],
      "metadata": {
        "id": "Yu5bzA6Oj76a"
      },
      "execution_count": null,
      "outputs": []
    }
  ],
  "metadata": {
    "colab": {
      "provenance": []
    },
    "kernelspec": {
      "display_name": "Python 3",
      "name": "python3"
    },
    "language_info": {
      "name": "python"
    }
  },
  "nbformat": 4,
  "nbformat_minor": 0
}